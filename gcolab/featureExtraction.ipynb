{
  "nbformat": 4,
  "nbformat_minor": 0,
  "metadata": {
    "colab": {
      "provenance": [],
      "mount_file_id": "1j1AqSszT27PyK2X6ZqrJezn_KrKGPQBl",
      "authorship_tag": "ABX9TyM6huUD0HF2L3PXw+0CMlmK",
      "include_colab_link": true
    },
    "kernelspec": {
      "name": "python3",
      "display_name": "Python 3"
    },
    "language_info": {
      "name": "python"
    },
    "widgets": {
      "application/vnd.jupyter.widget-state+json": {
        "ea46779fd4b84d43a1a29c8e3f95f890": {
          "model_module": "@jupyter-widgets/controls",
          "model_name": "VBoxModel",
          "model_module_version": "1.5.0",
          "state": {
            "_dom_classes": [],
            "_model_module": "@jupyter-widgets/controls",
            "_model_module_version": "1.5.0",
            "_model_name": "VBoxModel",
            "_view_count": null,
            "_view_module": "@jupyter-widgets/controls",
            "_view_module_version": "1.5.0",
            "_view_name": "VBoxView",
            "box_style": "",
            "children": [
              "IPY_MODEL_e759acc201b84d29b460de7e51bfcb61",
              "IPY_MODEL_36a6ba18d8424617abeeb8226dc0b717",
              "IPY_MODEL_d2d7db4c7df140c5929c20d2e7a8571a",
              "IPY_MODEL_f5f5387f68ee4336a6c174a932a0fb5e",
              "IPY_MODEL_bc2e14d47609474ead270921895602be"
            ],
            "layout": "IPY_MODEL_64d871d401964eeb87619e9b47a51e5b"
          }
        },
        "e759acc201b84d29b460de7e51bfcb61": {
          "model_module": "@jupyter-widgets/controls",
          "model_name": "HTMLModel",
          "model_module_version": "1.5.0",
          "state": {
            "_dom_classes": [],
            "_model_module": "@jupyter-widgets/controls",
            "_model_module_version": "1.5.0",
            "_model_name": "HTMLModel",
            "_view_count": null,
            "_view_module": "@jupyter-widgets/controls",
            "_view_module_version": "1.5.0",
            "_view_name": "HTMLView",
            "description": "",
            "description_tooltip": null,
            "layout": "IPY_MODEL_7472b655fccb481ba50d843f6c06293b",
            "placeholder": "​",
            "style": "IPY_MODEL_c31790c961504f27b6348b8b6799d599",
            "value": "<center> <img\nsrc=https://huggingface.co/front/assets/huggingface_logo-noborder.svg\nalt='Hugging Face'> <br> Copy a token from <a\nhref=\"https://huggingface.co/settings/tokens\" target=\"_blank\">your Hugging Face\ntokens page</a> and paste it below. <br> Immediately click login after copying\nyour token or it might be stored in plain text in this notebook file. </center>"
          }
        },
        "36a6ba18d8424617abeeb8226dc0b717": {
          "model_module": "@jupyter-widgets/controls",
          "model_name": "PasswordModel",
          "model_module_version": "1.5.0",
          "state": {
            "_dom_classes": [],
            "_model_module": "@jupyter-widgets/controls",
            "_model_module_version": "1.5.0",
            "_model_name": "PasswordModel",
            "_view_count": null,
            "_view_module": "@jupyter-widgets/controls",
            "_view_module_version": "1.5.0",
            "_view_name": "PasswordView",
            "continuous_update": true,
            "description": "Token:",
            "description_tooltip": null,
            "disabled": false,
            "layout": "IPY_MODEL_5529ea0aad5f4caeb3e623937514a5ea",
            "placeholder": "​",
            "style": "IPY_MODEL_6c63affd6cb14a90add72b898224ebdd",
            "value": ""
          }
        },
        "d2d7db4c7df140c5929c20d2e7a8571a": {
          "model_module": "@jupyter-widgets/controls",
          "model_name": "CheckboxModel",
          "model_module_version": "1.5.0",
          "state": {
            "_dom_classes": [],
            "_model_module": "@jupyter-widgets/controls",
            "_model_module_version": "1.5.0",
            "_model_name": "CheckboxModel",
            "_view_count": null,
            "_view_module": "@jupyter-widgets/controls",
            "_view_module_version": "1.5.0",
            "_view_name": "CheckboxView",
            "description": "Add token as git credential?",
            "description_tooltip": null,
            "disabled": false,
            "indent": true,
            "layout": "IPY_MODEL_f5184cce6eca4b6c8f6a9c1bb2f481d4",
            "style": "IPY_MODEL_04803b6dcb3340518ee03f4fd941c546",
            "value": true
          }
        },
        "f5f5387f68ee4336a6c174a932a0fb5e": {
          "model_module": "@jupyter-widgets/controls",
          "model_name": "ButtonModel",
          "model_module_version": "1.5.0",
          "state": {
            "_dom_classes": [],
            "_model_module": "@jupyter-widgets/controls",
            "_model_module_version": "1.5.0",
            "_model_name": "ButtonModel",
            "_view_count": null,
            "_view_module": "@jupyter-widgets/controls",
            "_view_module_version": "1.5.0",
            "_view_name": "ButtonView",
            "button_style": "",
            "description": "Login",
            "disabled": false,
            "icon": "",
            "layout": "IPY_MODEL_a2206b2480e84c82a61768ca2d8196fc",
            "style": "IPY_MODEL_febeb5ba367e4efcaf220ce9b1fa3e4f",
            "tooltip": ""
          }
        },
        "bc2e14d47609474ead270921895602be": {
          "model_module": "@jupyter-widgets/controls",
          "model_name": "HTMLModel",
          "model_module_version": "1.5.0",
          "state": {
            "_dom_classes": [],
            "_model_module": "@jupyter-widgets/controls",
            "_model_module_version": "1.5.0",
            "_model_name": "HTMLModel",
            "_view_count": null,
            "_view_module": "@jupyter-widgets/controls",
            "_view_module_version": "1.5.0",
            "_view_name": "HTMLView",
            "description": "",
            "description_tooltip": null,
            "layout": "IPY_MODEL_1b49961dda0642a990bafd3cd990af5c",
            "placeholder": "​",
            "style": "IPY_MODEL_1042b44ec1c44bc597719c785cd31eb9",
            "value": "\n<b>Pro Tip:</b> If you don't already have one, you can create a dedicated\n'notebooks' token with 'write' access, that you can then easily reuse for all\nnotebooks. </center>"
          }
        },
        "64d871d401964eeb87619e9b47a51e5b": {
          "model_module": "@jupyter-widgets/base",
          "model_name": "LayoutModel",
          "model_module_version": "1.2.0",
          "state": {
            "_model_module": "@jupyter-widgets/base",
            "_model_module_version": "1.2.0",
            "_model_name": "LayoutModel",
            "_view_count": null,
            "_view_module": "@jupyter-widgets/base",
            "_view_module_version": "1.2.0",
            "_view_name": "LayoutView",
            "align_content": null,
            "align_items": "center",
            "align_self": null,
            "border": null,
            "bottom": null,
            "display": "flex",
            "flex": null,
            "flex_flow": "column",
            "grid_area": null,
            "grid_auto_columns": null,
            "grid_auto_flow": null,
            "grid_auto_rows": null,
            "grid_column": null,
            "grid_gap": null,
            "grid_row": null,
            "grid_template_areas": null,
            "grid_template_columns": null,
            "grid_template_rows": null,
            "height": null,
            "justify_content": null,
            "justify_items": null,
            "left": null,
            "margin": null,
            "max_height": null,
            "max_width": null,
            "min_height": null,
            "min_width": null,
            "object_fit": null,
            "object_position": null,
            "order": null,
            "overflow": null,
            "overflow_x": null,
            "overflow_y": null,
            "padding": null,
            "right": null,
            "top": null,
            "visibility": null,
            "width": "50%"
          }
        },
        "7472b655fccb481ba50d843f6c06293b": {
          "model_module": "@jupyter-widgets/base",
          "model_name": "LayoutModel",
          "model_module_version": "1.2.0",
          "state": {
            "_model_module": "@jupyter-widgets/base",
            "_model_module_version": "1.2.0",
            "_model_name": "LayoutModel",
            "_view_count": null,
            "_view_module": "@jupyter-widgets/base",
            "_view_module_version": "1.2.0",
            "_view_name": "LayoutView",
            "align_content": null,
            "align_items": null,
            "align_self": null,
            "border": null,
            "bottom": null,
            "display": null,
            "flex": null,
            "flex_flow": null,
            "grid_area": null,
            "grid_auto_columns": null,
            "grid_auto_flow": null,
            "grid_auto_rows": null,
            "grid_column": null,
            "grid_gap": null,
            "grid_row": null,
            "grid_template_areas": null,
            "grid_template_columns": null,
            "grid_template_rows": null,
            "height": null,
            "justify_content": null,
            "justify_items": null,
            "left": null,
            "margin": null,
            "max_height": null,
            "max_width": null,
            "min_height": null,
            "min_width": null,
            "object_fit": null,
            "object_position": null,
            "order": null,
            "overflow": null,
            "overflow_x": null,
            "overflow_y": null,
            "padding": null,
            "right": null,
            "top": null,
            "visibility": null,
            "width": null
          }
        },
        "c31790c961504f27b6348b8b6799d599": {
          "model_module": "@jupyter-widgets/controls",
          "model_name": "DescriptionStyleModel",
          "model_module_version": "1.5.0",
          "state": {
            "_model_module": "@jupyter-widgets/controls",
            "_model_module_version": "1.5.0",
            "_model_name": "DescriptionStyleModel",
            "_view_count": null,
            "_view_module": "@jupyter-widgets/base",
            "_view_module_version": "1.2.0",
            "_view_name": "StyleView",
            "description_width": ""
          }
        },
        "5529ea0aad5f4caeb3e623937514a5ea": {
          "model_module": "@jupyter-widgets/base",
          "model_name": "LayoutModel",
          "model_module_version": "1.2.0",
          "state": {
            "_model_module": "@jupyter-widgets/base",
            "_model_module_version": "1.2.0",
            "_model_name": "LayoutModel",
            "_view_count": null,
            "_view_module": "@jupyter-widgets/base",
            "_view_module_version": "1.2.0",
            "_view_name": "LayoutView",
            "align_content": null,
            "align_items": null,
            "align_self": null,
            "border": null,
            "bottom": null,
            "display": null,
            "flex": null,
            "flex_flow": null,
            "grid_area": null,
            "grid_auto_columns": null,
            "grid_auto_flow": null,
            "grid_auto_rows": null,
            "grid_column": null,
            "grid_gap": null,
            "grid_row": null,
            "grid_template_areas": null,
            "grid_template_columns": null,
            "grid_template_rows": null,
            "height": null,
            "justify_content": null,
            "justify_items": null,
            "left": null,
            "margin": null,
            "max_height": null,
            "max_width": null,
            "min_height": null,
            "min_width": null,
            "object_fit": null,
            "object_position": null,
            "order": null,
            "overflow": null,
            "overflow_x": null,
            "overflow_y": null,
            "padding": null,
            "right": null,
            "top": null,
            "visibility": null,
            "width": null
          }
        },
        "6c63affd6cb14a90add72b898224ebdd": {
          "model_module": "@jupyter-widgets/controls",
          "model_name": "DescriptionStyleModel",
          "model_module_version": "1.5.0",
          "state": {
            "_model_module": "@jupyter-widgets/controls",
            "_model_module_version": "1.5.0",
            "_model_name": "DescriptionStyleModel",
            "_view_count": null,
            "_view_module": "@jupyter-widgets/base",
            "_view_module_version": "1.2.0",
            "_view_name": "StyleView",
            "description_width": ""
          }
        },
        "f5184cce6eca4b6c8f6a9c1bb2f481d4": {
          "model_module": "@jupyter-widgets/base",
          "model_name": "LayoutModel",
          "model_module_version": "1.2.0",
          "state": {
            "_model_module": "@jupyter-widgets/base",
            "_model_module_version": "1.2.0",
            "_model_name": "LayoutModel",
            "_view_count": null,
            "_view_module": "@jupyter-widgets/base",
            "_view_module_version": "1.2.0",
            "_view_name": "LayoutView",
            "align_content": null,
            "align_items": null,
            "align_self": null,
            "border": null,
            "bottom": null,
            "display": null,
            "flex": null,
            "flex_flow": null,
            "grid_area": null,
            "grid_auto_columns": null,
            "grid_auto_flow": null,
            "grid_auto_rows": null,
            "grid_column": null,
            "grid_gap": null,
            "grid_row": null,
            "grid_template_areas": null,
            "grid_template_columns": null,
            "grid_template_rows": null,
            "height": null,
            "justify_content": null,
            "justify_items": null,
            "left": null,
            "margin": null,
            "max_height": null,
            "max_width": null,
            "min_height": null,
            "min_width": null,
            "object_fit": null,
            "object_position": null,
            "order": null,
            "overflow": null,
            "overflow_x": null,
            "overflow_y": null,
            "padding": null,
            "right": null,
            "top": null,
            "visibility": null,
            "width": null
          }
        },
        "04803b6dcb3340518ee03f4fd941c546": {
          "model_module": "@jupyter-widgets/controls",
          "model_name": "DescriptionStyleModel",
          "model_module_version": "1.5.0",
          "state": {
            "_model_module": "@jupyter-widgets/controls",
            "_model_module_version": "1.5.0",
            "_model_name": "DescriptionStyleModel",
            "_view_count": null,
            "_view_module": "@jupyter-widgets/base",
            "_view_module_version": "1.2.0",
            "_view_name": "StyleView",
            "description_width": ""
          }
        },
        "a2206b2480e84c82a61768ca2d8196fc": {
          "model_module": "@jupyter-widgets/base",
          "model_name": "LayoutModel",
          "model_module_version": "1.2.0",
          "state": {
            "_model_module": "@jupyter-widgets/base",
            "_model_module_version": "1.2.0",
            "_model_name": "LayoutModel",
            "_view_count": null,
            "_view_module": "@jupyter-widgets/base",
            "_view_module_version": "1.2.0",
            "_view_name": "LayoutView",
            "align_content": null,
            "align_items": null,
            "align_self": null,
            "border": null,
            "bottom": null,
            "display": null,
            "flex": null,
            "flex_flow": null,
            "grid_area": null,
            "grid_auto_columns": null,
            "grid_auto_flow": null,
            "grid_auto_rows": null,
            "grid_column": null,
            "grid_gap": null,
            "grid_row": null,
            "grid_template_areas": null,
            "grid_template_columns": null,
            "grid_template_rows": null,
            "height": null,
            "justify_content": null,
            "justify_items": null,
            "left": null,
            "margin": null,
            "max_height": null,
            "max_width": null,
            "min_height": null,
            "min_width": null,
            "object_fit": null,
            "object_position": null,
            "order": null,
            "overflow": null,
            "overflow_x": null,
            "overflow_y": null,
            "padding": null,
            "right": null,
            "top": null,
            "visibility": null,
            "width": null
          }
        },
        "febeb5ba367e4efcaf220ce9b1fa3e4f": {
          "model_module": "@jupyter-widgets/controls",
          "model_name": "ButtonStyleModel",
          "model_module_version": "1.5.0",
          "state": {
            "_model_module": "@jupyter-widgets/controls",
            "_model_module_version": "1.5.0",
            "_model_name": "ButtonStyleModel",
            "_view_count": null,
            "_view_module": "@jupyter-widgets/base",
            "_view_module_version": "1.2.0",
            "_view_name": "StyleView",
            "button_color": null,
            "font_weight": ""
          }
        },
        "1b49961dda0642a990bafd3cd990af5c": {
          "model_module": "@jupyter-widgets/base",
          "model_name": "LayoutModel",
          "model_module_version": "1.2.0",
          "state": {
            "_model_module": "@jupyter-widgets/base",
            "_model_module_version": "1.2.0",
            "_model_name": "LayoutModel",
            "_view_count": null,
            "_view_module": "@jupyter-widgets/base",
            "_view_module_version": "1.2.0",
            "_view_name": "LayoutView",
            "align_content": null,
            "align_items": null,
            "align_self": null,
            "border": null,
            "bottom": null,
            "display": null,
            "flex": null,
            "flex_flow": null,
            "grid_area": null,
            "grid_auto_columns": null,
            "grid_auto_flow": null,
            "grid_auto_rows": null,
            "grid_column": null,
            "grid_gap": null,
            "grid_row": null,
            "grid_template_areas": null,
            "grid_template_columns": null,
            "grid_template_rows": null,
            "height": null,
            "justify_content": null,
            "justify_items": null,
            "left": null,
            "margin": null,
            "max_height": null,
            "max_width": null,
            "min_height": null,
            "min_width": null,
            "object_fit": null,
            "object_position": null,
            "order": null,
            "overflow": null,
            "overflow_x": null,
            "overflow_y": null,
            "padding": null,
            "right": null,
            "top": null,
            "visibility": null,
            "width": null
          }
        },
        "1042b44ec1c44bc597719c785cd31eb9": {
          "model_module": "@jupyter-widgets/controls",
          "model_name": "DescriptionStyleModel",
          "model_module_version": "1.5.0",
          "state": {
            "_model_module": "@jupyter-widgets/controls",
            "_model_module_version": "1.5.0",
            "_model_name": "DescriptionStyleModel",
            "_view_count": null,
            "_view_module": "@jupyter-widgets/base",
            "_view_module_version": "1.2.0",
            "_view_name": "StyleView",
            "description_width": ""
          }
        }
      }
    }
  },
  "cells": [
    {
      "cell_type": "markdown",
      "metadata": {
        "id": "view-in-github",
        "colab_type": "text"
      },
      "source": [
        "<a href=\"https://colab.research.google.com/github/ShadowofSkull/DevHack2023/blob/main/gcolab/featureExtraction.ipynb\" target=\"_parent\"><img src=\"https://colab.research.google.com/assets/colab-badge.svg\" alt=\"Open In Colab\"/></a>"
      ]
    },
    {
      "cell_type": "code",
      "execution_count": null,
      "metadata": {
        "id": "d1pziDeSD2yd"
      },
      "outputs": [],
      "source": [
        "!pip install -U finetuner\n",
        "#! pip install \"finetuner[full]\"\n",
        "!python -m pip install tensorflow\n",
        "!python -m pip install transformers evaluate datasets\n",
        "!python -m pip install pandas\n",
        "!python -m pip install numpy"
      ]
    },
    {
      "cell_type": "markdown",
      "source": [
        "Preparing Document Similarity Data for Training\n",
        "\n",
        "0.0 (completely unrelated) and 1.0 (identical)\n",
        "\n",
        "\n",
        "excel use , as delimiter and \\r\\n as lineterminator.\n",
        "\n",
        "The weather is nice, The weather is beautiful, 0.9\n",
        "The weather is nice, The weather is bad, 0"
      ],
      "metadata": {
        "id": "N5tUwxb3EaAI"
      }
    },
    {
      "cell_type": "code",
      "source": [
        "from datasets import load_dataset, Dataset\n",
        "import pandas as pd\n",
        "\n",
        "df = pd.read_csv(\"drive/MyDrive/Colab Notebooks/data/Resume.csv\")\n",
        "resume = Dataset.from_pandas(df)\n",
        "job = load_dataset(\"jacob-hugging-face/job-descriptions\")"
      ],
      "metadata": {
        "id": "lHrZcNExD47_"
      },
      "execution_count": 56,
      "outputs": []
    },
    {
      "cell_type": "code",
      "source": [
        "from datasets import get_dataset_split_names\n",
        "\n",
        "get_dataset_split_names(\"jacob-hugging-face/job-descriptions\")\n"
      ],
      "metadata": {
        "colab": {
          "base_uri": "https://localhost:8080/"
        },
        "id": "pclCA3ccHXeZ",
        "outputId": "b9ee154b-99a2-4029-f853-fe28f01ebfff"
      },
      "execution_count": 57,
      "outputs": [
        {
          "output_type": "execute_result",
          "data": {
            "text/plain": [
              "['train']"
            ]
          },
          "metadata": {},
          "execution_count": 57
        }
      ]
    },
    {
      "cell_type": "code",
      "source": [
        "resume"
      ],
      "metadata": {
        "colab": {
          "base_uri": "https://localhost:8080/"
        },
        "id": "4QdToN3wMr6k",
        "outputId": "4e9a98f8-6c5e-4642-94c7-13b9533feac8"
      },
      "execution_count": 58,
      "outputs": [
        {
          "output_type": "execute_result",
          "data": {
            "text/plain": [
              "Dataset({\n",
              "    features: ['ID', 'Resume_str', 'Resume_html', 'Category'],\n",
              "    num_rows: 2484\n",
              "})"
            ]
          },
          "metadata": {},
          "execution_count": 58
        }
      ]
    },
    {
      "cell_type": "code",
      "source": [
        "from huggingface_hub import notebook_login\n",
        "\n",
        "notebook_login()"
      ],
      "metadata": {
        "colab": {
          "base_uri": "https://localhost:8080/",
          "height": 303,
          "referenced_widgets": [
            "ea46779fd4b84d43a1a29c8e3f95f890",
            "e759acc201b84d29b460de7e51bfcb61",
            "36a6ba18d8424617abeeb8226dc0b717",
            "d2d7db4c7df140c5929c20d2e7a8571a",
            "f5f5387f68ee4336a6c174a932a0fb5e",
            "bc2e14d47609474ead270921895602be",
            "64d871d401964eeb87619e9b47a51e5b",
            "7472b655fccb481ba50d843f6c06293b",
            "c31790c961504f27b6348b8b6799d599",
            "5529ea0aad5f4caeb3e623937514a5ea",
            "6c63affd6cb14a90add72b898224ebdd",
            "f5184cce6eca4b6c8f6a9c1bb2f481d4",
            "04803b6dcb3340518ee03f4fd941c546",
            "a2206b2480e84c82a61768ca2d8196fc",
            "febeb5ba367e4efcaf220ce9b1fa3e4f",
            "1b49961dda0642a990bafd3cd990af5c",
            "1042b44ec1c44bc597719c785cd31eb9"
          ]
        },
        "id": "rQXJKhVoPXYK",
        "outputId": "c2c66fdb-7f56-46f2-9621-380be264529f"
      },
      "execution_count": 59,
      "outputs": [
        {
          "output_type": "display_data",
          "data": {
            "text/plain": [
              "VBox(children=(HTML(value='<center> <img\\nsrc=https://huggingface.co/front/assets/huggingface_logo-noborder.sv…"
            ],
            "application/vnd.jupyter.widget-view+json": {
              "version_major": 2,
              "version_minor": 0,
              "model_id": "ea46779fd4b84d43a1a29c8e3f95f890"
            }
          },
          "metadata": {}
        }
      ]
    },
    {
      "cell_type": "code",
      "source": [
        "!pip install -U sentence-transformers"
      ],
      "metadata": {
        "colab": {
          "base_uri": "https://localhost:8080/"
        },
        "id": "Y7Y0jW5BWTSt",
        "outputId": "8fdb0170-4b72-41f9-e06b-c1c3eae6fdde"
      },
      "execution_count": 63,
      "outputs": [
        {
          "output_type": "stream",
          "name": "stdout",
          "text": [
            "Collecting sentence-transformers\n",
            "  Downloading sentence-transformers-2.2.2.tar.gz (85 kB)\n",
            "\u001b[?25l     \u001b[90m━━━━━━━━━━━━━━━━━━━━━━━━━━━━━━━━━━━━━━━━\u001b[0m \u001b[32m0.0/86.0 kB\u001b[0m \u001b[31m?\u001b[0m eta \u001b[36m-:--:--\u001b[0m\r\u001b[2K     \u001b[90m━━━━━━━━━━━━━━━━━━━━━━━━━━━━━━━━━━━━━━━━\u001b[0m \u001b[32m86.0/86.0 kB\u001b[0m \u001b[31m3.0 MB/s\u001b[0m eta \u001b[36m0:00:00\u001b[0m\n",
            "\u001b[?25h  Preparing metadata (setup.py) ... \u001b[?25l\u001b[?25hdone\n",
            "Requirement already satisfied: transformers<5.0.0,>=4.6.0 in /usr/local/lib/python3.10/dist-packages (from sentence-transformers) (4.20.1)\n",
            "Requirement already satisfied: tqdm in /usr/local/lib/python3.10/dist-packages (from sentence-transformers) (4.66.1)\n",
            "Requirement already satisfied: torch>=1.6.0 in /usr/local/lib/python3.10/dist-packages (from sentence-transformers) (2.0.1)\n",
            "Requirement already satisfied: torchvision in /usr/local/lib/python3.10/dist-packages (from sentence-transformers) (0.15.2)\n",
            "Requirement already satisfied: numpy in /usr/local/lib/python3.10/dist-packages (from sentence-transformers) (1.23.5)\n",
            "Requirement already satisfied: scikit-learn in /usr/local/lib/python3.10/dist-packages (from sentence-transformers) (1.2.2)\n",
            "Requirement already satisfied: scipy in /usr/local/lib/python3.10/dist-packages (from sentence-transformers) (1.11.3)\n",
            "Requirement already satisfied: nltk in /usr/local/lib/python3.10/dist-packages (from sentence-transformers) (3.8.1)\n",
            "Requirement already satisfied: sentencepiece in /usr/local/lib/python3.10/dist-packages (from sentence-transformers) (0.1.99)\n",
            "Requirement already satisfied: huggingface-hub>=0.4.0 in /usr/local/lib/python3.10/dist-packages (from sentence-transformers) (0.18.0)\n",
            "Requirement already satisfied: filelock in /usr/local/lib/python3.10/dist-packages (from huggingface-hub>=0.4.0->sentence-transformers) (3.12.4)\n",
            "Requirement already satisfied: fsspec>=2023.5.0 in /usr/local/lib/python3.10/dist-packages (from huggingface-hub>=0.4.0->sentence-transformers) (2023.6.0)\n",
            "Requirement already satisfied: requests in /usr/local/lib/python3.10/dist-packages (from huggingface-hub>=0.4.0->sentence-transformers) (2.31.0)\n",
            "Requirement already satisfied: pyyaml>=5.1 in /usr/local/lib/python3.10/dist-packages (from huggingface-hub>=0.4.0->sentence-transformers) (6.0.1)\n",
            "Requirement already satisfied: typing-extensions>=3.7.4.3 in /usr/local/lib/python3.10/dist-packages (from huggingface-hub>=0.4.0->sentence-transformers) (4.8.0)\n",
            "Requirement already satisfied: packaging>=20.9 in /usr/local/lib/python3.10/dist-packages (from huggingface-hub>=0.4.0->sentence-transformers) (23.2)\n",
            "Requirement already satisfied: sympy in /usr/local/lib/python3.10/dist-packages (from torch>=1.6.0->sentence-transformers) (1.12)\n",
            "Requirement already satisfied: networkx in /usr/local/lib/python3.10/dist-packages (from torch>=1.6.0->sentence-transformers) (3.2)\n",
            "Requirement already satisfied: jinja2 in /usr/local/lib/python3.10/dist-packages (from torch>=1.6.0->sentence-transformers) (3.1.2)\n",
            "Requirement already satisfied: nvidia-cuda-nvrtc-cu11==11.7.99 in /usr/local/lib/python3.10/dist-packages (from torch>=1.6.0->sentence-transformers) (11.7.99)\n",
            "Requirement already satisfied: nvidia-cuda-runtime-cu11==11.7.99 in /usr/local/lib/python3.10/dist-packages (from torch>=1.6.0->sentence-transformers) (11.7.99)\n",
            "Requirement already satisfied: nvidia-cuda-cupti-cu11==11.7.101 in /usr/local/lib/python3.10/dist-packages (from torch>=1.6.0->sentence-transformers) (11.7.101)\n",
            "Requirement already satisfied: nvidia-cudnn-cu11==8.5.0.96 in /usr/local/lib/python3.10/dist-packages (from torch>=1.6.0->sentence-transformers) (8.5.0.96)\n",
            "Requirement already satisfied: nvidia-cublas-cu11==11.10.3.66 in /usr/local/lib/python3.10/dist-packages (from torch>=1.6.0->sentence-transformers) (11.10.3.66)\n",
            "Requirement already satisfied: nvidia-cufft-cu11==10.9.0.58 in /usr/local/lib/python3.10/dist-packages (from torch>=1.6.0->sentence-transformers) (10.9.0.58)\n",
            "Requirement already satisfied: nvidia-curand-cu11==10.2.10.91 in /usr/local/lib/python3.10/dist-packages (from torch>=1.6.0->sentence-transformers) (10.2.10.91)\n",
            "Requirement already satisfied: nvidia-cusolver-cu11==11.4.0.1 in /usr/local/lib/python3.10/dist-packages (from torch>=1.6.0->sentence-transformers) (11.4.0.1)\n",
            "Requirement already satisfied: nvidia-cusparse-cu11==11.7.4.91 in /usr/local/lib/python3.10/dist-packages (from torch>=1.6.0->sentence-transformers) (11.7.4.91)\n",
            "Requirement already satisfied: nvidia-nccl-cu11==2.14.3 in /usr/local/lib/python3.10/dist-packages (from torch>=1.6.0->sentence-transformers) (2.14.3)\n",
            "Requirement already satisfied: nvidia-nvtx-cu11==11.7.91 in /usr/local/lib/python3.10/dist-packages (from torch>=1.6.0->sentence-transformers) (11.7.91)\n",
            "Requirement already satisfied: triton==2.0.0 in /usr/local/lib/python3.10/dist-packages (from torch>=1.6.0->sentence-transformers) (2.0.0)\n",
            "Requirement already satisfied: setuptools in /usr/local/lib/python3.10/dist-packages (from nvidia-cublas-cu11==11.10.3.66->torch>=1.6.0->sentence-transformers) (67.7.2)\n",
            "Requirement already satisfied: wheel in /usr/local/lib/python3.10/dist-packages (from nvidia-cublas-cu11==11.10.3.66->torch>=1.6.0->sentence-transformers) (0.41.2)\n",
            "Requirement already satisfied: cmake in /usr/local/lib/python3.10/dist-packages (from triton==2.0.0->torch>=1.6.0->sentence-transformers) (3.27.7)\n",
            "Requirement already satisfied: lit in /usr/local/lib/python3.10/dist-packages (from triton==2.0.0->torch>=1.6.0->sentence-transformers) (17.0.4)\n",
            "Requirement already satisfied: regex!=2019.12.17 in /usr/local/lib/python3.10/dist-packages (from transformers<5.0.0,>=4.6.0->sentence-transformers) (2023.6.3)\n",
            "Requirement already satisfied: tokenizers!=0.11.3,<0.13,>=0.11.1 in /usr/local/lib/python3.10/dist-packages (from transformers<5.0.0,>=4.6.0->sentence-transformers) (0.12.1)\n",
            "Requirement already satisfied: click in /usr/local/lib/python3.10/dist-packages (from nltk->sentence-transformers) (8.1.7)\n",
            "Requirement already satisfied: joblib in /usr/local/lib/python3.10/dist-packages (from nltk->sentence-transformers) (1.3.2)\n",
            "Requirement already satisfied: threadpoolctl>=2.0.0 in /usr/local/lib/python3.10/dist-packages (from scikit-learn->sentence-transformers) (3.2.0)\n",
            "Requirement already satisfied: pillow!=8.3.*,>=5.3.0 in /usr/local/lib/python3.10/dist-packages (from torchvision->sentence-transformers) (9.4.0)\n",
            "Requirement already satisfied: MarkupSafe>=2.0 in /usr/local/lib/python3.10/dist-packages (from jinja2->torch>=1.6.0->sentence-transformers) (2.1.3)\n",
            "Requirement already satisfied: charset-normalizer<4,>=2 in /usr/local/lib/python3.10/dist-packages (from requests->huggingface-hub>=0.4.0->sentence-transformers) (3.3.1)\n",
            "Requirement already satisfied: idna<4,>=2.5 in /usr/local/lib/python3.10/dist-packages (from requests->huggingface-hub>=0.4.0->sentence-transformers) (3.4)\n",
            "Requirement already satisfied: urllib3<3,>=1.21.1 in /usr/local/lib/python3.10/dist-packages (from requests->huggingface-hub>=0.4.0->sentence-transformers) (2.0.7)\n",
            "Requirement already satisfied: certifi>=2017.4.17 in /usr/local/lib/python3.10/dist-packages (from requests->huggingface-hub>=0.4.0->sentence-transformers) (2023.7.22)\n",
            "Requirement already satisfied: mpmath>=0.19 in /usr/local/lib/python3.10/dist-packages (from sympy->torch>=1.6.0->sentence-transformers) (1.3.0)\n",
            "Building wheels for collected packages: sentence-transformers\n",
            "  Building wheel for sentence-transformers (setup.py) ... \u001b[?25l\u001b[?25hdone\n",
            "  Created wheel for sentence-transformers: filename=sentence_transformers-2.2.2-py3-none-any.whl size=125923 sha256=e3a045804b4215cb850757af69e75a2e40e70660cc69373d59a7b6422a50337d\n",
            "  Stored in directory: /root/.cache/pip/wheels/62/f2/10/1e606fd5f02395388f74e7462910fe851042f97238cbbd902f\n",
            "Successfully built sentence-transformers\n",
            "Installing collected packages: sentence-transformers\n",
            "Successfully installed sentence-transformers-2.2.2\n"
          ]
        }
      ]
    },
    {
      "cell_type": "code",
      "source": [
        "from sentence_transformers import SentenceTransformer, util\n",
        "# model = SentenceTransformer('all-MiniLM-L6-v2')\n",
        "model = SentenceTransformer('BAAI/bge-large-en-v1.5')\n",
        "\n",
        "des = \"\"\"\n",
        "about the position\n",
        "\n",
        "the web designer is responsible for providing designrelated support for clientrelated and internal projects\n",
        "\n",
        "additionally the web designer is responsible for providing designrelated support for projects that are currently in development client review and postlaunch when assigned\n",
        "\n",
        "daytoday\n",
        " collaborate closely with design managers on websiterelated projects including finishing projects that have a set art direction to hand over to the development team\n",
        " work crossfunctionally with content and development teams which includes facilitating design discussions and adjusting existing designswebsites based on client feedback in preparation for the launch of their sites\n",
        " partner with development teams to ensure the implementation of your designs and user experiences are of the highest quality\n",
        " use and evolve our design systemlibrary to craft sketches flows prototypes and highfidelity visuals for client websites and product features\n",
        " work closely with design leadership to inform and improve our processes identifying opportunities for elevating our product and user experience\n",
        " provide designrelated support for postlaunch projects\n",
        "\n",
        "requirements\n",
        "\n",
        "our ideal candidate\n",
        " is detailoriented has an excellent eye for detail and enjoys delivering pixelperfect and welldocumented designs\n",
        " knows how to design websites has experience working with and understanding responsive design patterns and systems\n",
        " is prepared to take the baton and run gladly takes on projects with set art direction and finishes off remaining design production work\n",
        " has design system experience has experience working with scalable design systems within an inhouse design team\n",
        " is a team contributor more than willing to work with design managers to develop the strategy and rationale for features and improvements to internal processes\n",
        " can speak up and be understood has strong verbal and written communication skills which is a must for a remote company\n",
        " can adjust and pivot can navigate and move forward quickly within a fastscaling company and an everevolving creator website tool\n",
        " is hungry to improve gladly welcome feedback on their own performance from design managers along with nondesigners with the intent of professional growth in the company\n",
        " most importantly can joke around a sense of humor is a must in our company\n",
        "\n",
        "our company culture revolves around among other things working hard and laughing harder\n",
        "\n",
        "requirements\n",
        "  years of experience as an individual contributor on a web or product design team for desktop and mobile\n",
        " an excellent portfolio showcasing a strong foundation in typography interaction and visual design and ideation\n",
        "\n",
        "bonus props for personal projects that display your design aesthetic and passions\n",
        " solid understanding of building usable accessible ada and modular design systems that can scale\n",
        "\n",
        "bonus props for certification in or related to ada\n",
        " experience facilitating the adoption of visual design andor patterns across a design project\n",
        " excellent understanding of figma and other design tools\n",
        " excellent written and verbal communication skills and ability to clearly communicate design decisions\n",
        " strong organizational skills and a selfstarter\n",
        "\n",
        "benefits\n",
        " remote always\n",
        " generous pto\n",
        " allowance for continuing education or training\n",
        " shiny new gear of your choice apple products\n",
        " medical dental longterm and short term disability insurance\n",
        " companysponsored life insurance\n",
        "\n",
        "dont meet  of the qualifications above thats okay apply anyway\n",
        "\"\"\"\n",
        "\n",
        "res = \"\"\"\n",
        "         WEB DESIGNER/GRAPHIC DESIGNER       Summary    To obtain a dynamic, challenging opportunity that contributes to the success of the business via eight years proposal coordination experience and 15 years' experience in graphic layout and design. Make a strong contribution by utilizing and expanding upon work experiences and capabilities, related education, oral, written and interpersonal skills. Positively impact the quality of work, acquisition of new business and client retention goals.      Highlights        Proficient in Dreamweaver, Photoshop, QuarkXPress, InDesign, Microsoft Word and PowerPoint; Foundational skills in Illustrator and Microsoft Excel\n",
        "Copyediting, proofreading, HTML and CSS editing\n",
        "In depth knowledge of Business Development and Proposal response and coordination process              Experience     01/2010       Web Designer/Graphic Designer    Company Name   ï¼   City  ,   State      Manufacturer of Expansion Joints and Hose Manage front-end web site design to project a visually appealing image of company products and value added services.  Manage all assigned projects from conceptualization to implementation.  Coordinating and communicating with stakeholders in all stages of work to achieve desired message and impact.  Update existing site content through collaboration with subject matter experts to ensure industry relevancy and accuracy.  Develop and redesign company catalogs, periodic internal publications, industry advertisements and sell sheets in a manner that will project a sophisticated image and result in additional sales revenue for the company.  Overhauled the visual appeal and readability of previously developed technical and product catalogs through extensive redesigning.         01/2010   to   Current     Web, Graphics and Written Communications Consultant      Family In Distress, Inc., Augustine Monica Films, LaGrande Famille Preschool, Black Pearl, Inc.  Web site design and maintenance for a variety of clients to provide or enhance online presence, as well as promote the sale of products and services.  Provide graphic design support for non-profit, small business and individual clients to project a professional and polished print image to target audiences.  Written business communications support by gathering information and effectively translating verbal dialogue into well-written, persuasive copy.         01/2008   to   01/2012     Copy Editor and Proofreader    Company Name   ï¼   City  ,   State      Thoroughly proofread web-based documents for The Academy of Nutrition and Dietetics Evidence Analysis Library www.eatright.org (the world's largest organization of food and nutrition professionals).  Copyedited nutritional research studies for accuracy according to ADA's guidelines including citation, terminology and specified table formatting for consistency throughout the extensive user-friendly online library.  Funneled documents to lead editors for final publication and online availability to dietetic and nutrition professionals, researchers and advocates worldwide.         01/1999   to   01/2007     Proposal Specialist    Company Name   ï¼   City  ,   State      Provided professional proposal development support to all divisions of the ARAMARK Corporation.  Achievements Received \"2006 Top Producer\" Award for overall annual production and outstanding peer review.  Recognized as \"Quarterly Top Producer\" several quarters over the course of eight-year tenure at ARAMARK.  Recipient of above average annual merit raises as a result of outstanding performance reviews.  Key Responsibilities: Executed analysis and preparation of RFP'S/RFQ'S/RFI'S in coordination with ARAMARK business development team professionals.  Ensured responses were completed and received operating in a fast-paced, deadline-driven and time-sensitive environment.  Coordinated with ARAMARK company resources to develop business winning, quality customized responses to RFP/RFQ/RFI's including legal, compliance and finance departments as well lines of service and subject matter experts.  Applied ARAMARK corporate methodology and quality assurance procedures to ensure unified branded message and image were delivered every time.  Implemented use of standard corporate response sections based on boilerplate.  Supported customization through editing and/or writing when necessary.  Performed editing and proofreading to ensure accuracy and integrity of all proposal documentation including content flow and organization, syntax and grammar.  Created final documents utilizing QuarkXPress, Photoshop, PowerPoint and Excel.  Assisted in the development and maintenance of database/repository of past responses and supplemental documents including client references, key personnel bios, and rÃ©sumÃ©s.  Supported efforts of directors of business development in procuring new business and retaining existing clients through creation of engaging, informative and well-organized marketing materials, annual client progress reports and case studies.  Regularly communicated progress status during the life cycle of an RFP; kept director of business development abreast of relevant project information concerning addenda or changes to initial response specifications.  Served as a valuable company resource by developing and maintaining a thorough knowledge of ARAMARK's extensive lines of business and services offered.  Documented valuable lessons learned to share with proposal manager and department team members.  Implemented newfound efficiencies and/or best practices into response development process.  Served as a company resource by continuously developing graphic design and layout skills to present sales material in a visually appealing and engaging format.          Education     May 1991     Bachelor of Science  :   Journalism    Boston University College of Communication          Journalism       February 2007     Graphic Design Foundation Certificate      Sessions School of Design                      Certificate in Web Development - February 2002      Illinois Institute of Art                  Skills    ADA, Photoshop, advertisements, business communications, business development, catalogs, content, Copyediting, CSS, client, clients, database, documentation, Dreamweaver, editing, fast, finance, Graphic Design, HTML, Illustrator, image, InDesign, layout, legal, director, marketing materials, Microsoft Excel, Excel, PowerPoint, Microsoft Word, performance reviews, Pearl, personnel, persuasive, Producer, profit, progress, proofreading, Proposal, proposal development, publications, publication, quality, quality assurance, QuarkXPress, research, RFI, RFP, sales, translating, Web Development, Web site design, well-organized, Written\n",
        "\"\"\"\n",
        "\n",
        "des = des.strip().lower()\n",
        "res = res.strip().lower()\n",
        "\n",
        "\n",
        "# Two lists of sentences\n",
        "sentences1 = ['The cat sits outside',\n",
        "             'A man is playing guitar',\n",
        "             'The new movie is awesome',\n",
        "              des\n",
        "\n",
        "             ]\n",
        "\n",
        "sentences2 = ['The dog plays in the garden',\n",
        "              'A woman watches TV',\n",
        "              'The new movie is so great',\n",
        "              res\n",
        "              ]\n",
        "\n",
        "#Compute embedding for both lists\n",
        "# embeddings1 = model.encode(sentences1, convert_to_tensor=True, normalize_embeddings=True)\n",
        "# embeddings2 = model.encode(sentences2, convert_to_tensor=True, normalize_embeddings=True)\n",
        "embeddings1 = model.encode(sentences1, convert_to_tensor=True)\n",
        "embeddings2 = model.encode(sentences2, convert_to_tensor=True)\n",
        "\n",
        "#Compute cosine-similarities\n",
        "cosine_scores = util.cos_sim(embeddings1, embeddings2)\n",
        "\n",
        "#Output the pairs with their score\n",
        "for i in range(len(sentences1)):\n",
        "    # print(\"{} \\t\\t {} \\t\\t Score: {:.4f}\".format(sentences1[i], sentences2[i], cosine_scores[i][i]))\n",
        "    print(\"Score: {:.4f}\".format(cosine_scores[i][i]))\n"
      ],
      "metadata": {
        "colab": {
          "base_uri": "https://localhost:8080/"
        },
        "id": "T9dthWGDevdH",
        "outputId": "160b3d03-c9eb-45d7-e5ac-b39ce82e2005"
      },
      "execution_count": 89,
      "outputs": [
        {
          "output_type": "stream",
          "name": "stdout",
          "text": [
            "Score: 0.5578\n",
            "Score: 0.3676\n",
            "Score: 0.9540\n",
            "Score: 0.7736\n"
          ]
        }
      ]
    },
    {
      "cell_type": "code",
      "source": [
        "print(model.get_max_seq_length())\n",
        "print(len(res), len(des))\n",
        "# have split a doc into paragraph of 512 token or use text summariser instead"
      ],
      "metadata": {
        "colab": {
          "base_uri": "https://localhost:8080/"
        },
        "id": "l5ASrXUuh_iI",
        "outputId": "da37998a-a7e9-4e49-8eb2-6be286f3422b"
      },
      "execution_count": 93,
      "outputs": [
        {
          "output_type": "stream",
          "name": "stdout",
          "text": [
            "512\n",
            "6744 3473\n"
          ]
        }
      ]
    },
    {
      "cell_type": "code",
      "source": [
        "unique_titles = []\n",
        "for jb in job[\"train\"]:\n",
        "  if jb[\"position_title\"].lower() not in unique_titles:\n",
        "    unique_titles.append(jb[\"position_title\"].lower().replace(\"-\",\"\"))\n",
        "print(unique_titles)\n",
        "\n",
        "unique_titles2 = []\n",
        "for r in resume[\"Category\"]:\n",
        "  if r.lower() not in unique_titles2:\n",
        "    unique_titles2.append(r.lower())\n",
        "print(unique_titles2)"
      ],
      "metadata": {
        "id": "mT8LgDWRFqau",
        "colab": {
          "base_uri": "https://localhost:8080/"
        },
        "outputId": "9dd7ca92-8163-467e-c69c-8b6c3b2e9394"
      },
      "execution_count": 62,
      "outputs": [
        {
          "output_type": "stream",
          "name": "stdout",
          "text": [
            "['sales specialist', 'apple solutions consultant', 'licensing coordinator  consumer products', 'web designer', 'web developer', 'frontend web developer', 'remote website designer', 'sr. web designer', 'senior ui designer', 'wordpress web developer', 'ui web designer', 'senior web designer (remote)', 'chief executive officer', 'executive vice president & chief executive officer (ceo), medical...', 'ceo', 'ceo, positivly', 'chief executive officer  ceo consultant', 'chief executive officer  healthcare  columbus', 'ceo coach', 'assistant vice president premier relationship manager', 'digital marketing specialist', 'senior marketing specialist', 'performance marketing specialist, paid media', 'software engineer  reno, nv', 'software engineer', 'entry level software engineer', 'associate software engineering', 'software engineer (javascript backend)', 'senior software engineer', 'warehouse manager', 'warehouse manager iv', 'warehouse supervisor', 'warehouse management specialist', 'warehouse manager  lexington, ky', 'bank teller', 'parttime bank teller/financial services representative', 'full time teller', 'seasonal teller', 'sales executive', 'sales executive iii client management', 'sales manager', 'account executive', 'account executive  columbus, oh  amo sales and services, inc..', 'workday sales director', 'account executive (inside sales)', 'business sales account executive', 'full stack web developer', 'web developer (frontend)', 'frontend engineer/ui developer', 'software engineer (web)', 'interns (web developers mobile developers game developers)', 'supply chain analyst', 'supply chain analyst iv', 'supply chain analyst (ed)', 'analyst ii, supply chain  corporate  us (open)', 'supply chain analyst  senior', 'business analyst supply chain', \"commission sales associate  men's, full time  beverly center\", \"commission sales associate  men's, full time  beverly center\", 'commission sales associate', 'retail commission sales associate  fine jewelry, del amo fashion...', 'retail commission sales associate  fine jewelry, northridge...', 'kitchen prep / cleaning', 'kitchen cleaner', 'kitchen cleaner (utility)', 'dishwasher/kitchen cleaner', 'utility cleaner  kitchen ($19.77/hr)', 'overnight janitor  los angeles, california', 'dishwasher', 'kitchen exhaust associate (commerce, ca)', 'senior software developer  up to 160k  100% remote', 'software developer  new graduate', 'software engineer (usremote)', 'software developer', 'senior software developer full stack (remote)', 'full stack software engineer', 'software engineer (remote)', 'vice president operations', 'bank president jobs in columbus, ohio', 'senior vice president of property management', 'regional vice president of sales', 'health solutions, vice president actuary', 'vice president for inclusive excellence', 'marketing director', 'director, audience marketing', 'director, sales & marketing', 'b2b marketing manager', 'sap alliance marketing director', 'marketing director – elearning – columbus, oh', 'enterprise sales executive', 'multimedia advertising sales executive', 'field sales representative columbus, ohio', 'outside sales executive, remote', 'retail sales associate', 'sales associate  easton t/c', 'parttime sales associate', 'selling  inside sales associate', 'ptsales associate  proservicesflexible', 'retail sales associate  full time or part time (columbus, ohio)', 'sales associate  sun center', 'business development center representative  performance columbus', 'business development sales representative  columbus', 'business development center representative  performance columbus', 'business development center representative  performance cadillac gmc', 'business development representative', 'automotive business development center (bdc) representative', 'registered nurse', 'bilingual occupational registered nurse', 'registered nurse (rn)', 'registered nurse (rnca02007)', 'registered nurse casual mount royal', 'senior manager, test', 'testing monitor (dge)  part time (nyc)', 'firmware test engineer', 'test center monitor', 'software engineer, test, advertising', 'bulk product testing coordinator', 'salesforce.com qa tester', 'test developer', 'program compliance manager', 'program compliance manager  remote', 'governance, risk & compliance program manager', 'compliance manager', 'compliance director', 'sr analyst compliance', 'marketing manager', 'college and career advisor  cuyahoga county', 'job coach', 'career specialist instructor', 'digital marketing sales  own the territory – run the show', 'advisory strategic resource manager', 'water resources project manager', 'criminal investigator 2', 'criminal investigator', 'public investigator', 'organized retail crime investigator virtual columbus', 'private investigator', 'entry level surveillance investigator', 'criminal justice', 'surveillance investigator', 'claims investigator', 'inventory clerk', 'inventory coordinator', 'civil rights investigator 1  columbus', 'credit collections lead', 'staff software engineer  smb  marketing enablement', 'patient services specialist (remote)', 'accounts receivablefc', 'collections', 'financial professional – financial / insurance – entry level', 'insurance agent', 'entrylevel sales', 'vice president/general manager (vp/gm)', 'vice president/practice leader of tax', 'senior vice president and managing director, international research', 'customer service  fraud liaison specialist', 'fraud awareness educator – associate', 'fraud resolution analyst', 'fraud systems analyst (remote opportunity)', 'fraud & compliance  aml/bsa specialist', 'fraud investigator', 'office clerk', 'general office clerk', 'ops deputy clerk', 'parttime office services clerk', 'general office clerk / data entry', 'general clerk ii', 'runner (mail clerk)', 'clerical', 'medicaid fraud intake officer  (22000555)', 'investigator 1g', 'cdl team truck driver and lease operators +', 'cdla flatbed truck driver', 'cdl a regional drivers', 'dump truck driver', 'cdl local route delivery truck driver', 'cdla truck driver  $5k sign on bonus', 'cdl a team drivers  signon bonus up to $10,000!', 'class a  regional truck driver  home weekly  out 2 days or less', 'solo class a cdl driver', 'ceo  cannabis & investment', 'chief of staff', 'cfo  fast growing startup', 'chief executive officer (ceo)', 'chief financial officer (cfo)', 'allstate agency owner  ceo of you', 'customer service representative  remote', 'customer service representative (work at home)', 'investigator', 'diversion investigator', 'polygraph examiner  entry to midlevel (md)', 'special agent', 'marketing specialist', 'marketing specialist/ brand marketing || work from home', 'marketing event coordinator', 'background investigator (ft employee)  arlington, va', 'polygraph examiner', 'construction project manager', 'project manager (ccr focused)', 'sr. project manager', 'infrastructure services project manager', 'project manager 100% remote', 'environmental project manager', 'project manager', 'digital development project manager', 'ecommerce manager  remote', 'senior ecommerce engineer', 'ecommerce manager', 'remote ecommerce technical analyst', 'it project manager iii  contract to hire  fortune client', 'ecommerce consultant', 'senior project manager  ecommercecertified scrum master', 'manager, commerce marketing', 'project manager i/ii remote', 'ecommerce account manager', 'manager ecommerce', 'remote customer service representative', 'bilingual spanish customer service representative work from home...', 'customer service representative l2 (workathome)', 'customer service representative', 'customer service representative  (1st shift)  remote', 'customer service representative / remote', 'parttime customer service representative (remote)', 'remote customer service associate', 'work from home customer service representative', 'talent acquisition specialist / recruiter', 'talent acquisition recruiter', 'talent acquisition coordinator/ technical recruiter (100% remote...', 'talent acquisition advisor (healthcare)   remote', 'talent acquisition specialist', 'talent acquisition manager', 'senior talent acquisition specialist', 'recruiter', 'marketing visionary', 'coordinator  marketing', 'digital marketing specialist (remote)', 'marketing content specialist (remote)', 'full time digital marketing specialist  columbus, oh', 'customer service representative ', 'test position', 'coach', 'fitness coach', 'strength & conditioning coach jobs at onelife fitness – falls...', 'fraud representative', 'html and wordpress developer', 'wordpress developer', 'ecommerce strategist', 'data entry clerk', 'data entry specialist', 'data entry  brecksville', 'attorney in brooklyn, ny', 'landlord tenant attorney', 'litigation  general/commercial attorney in brooklyn, ny', 'program director / supervising attorney', 'enforcement attorney', 'attorney, camba legal services, brooklyn', 'staff attorney', 'sales and marketing specialist', 'us sales & marketing  consumer specialist  executive director', 'sales & marketing specialist', 'senior sales marketing specialist (programmatic)', 'sales and marketing coordinator', 'growth marketing specialist', 'marketing coordinator', 'social media manager', 'email marketing specialist', 'pharmacy marketing representative', 'career coach (remote)', 'career coach waitlist (parttime/contract/us remote)', 'career advisor (career coach)', 'career coach, alumni talent services', 'career services coachremote full time', 'career coach', 'career coach (remote accepted)', 'technical support agent (remote)', 'remote technical support agent', 'technical support representative  work from home!', 'parttime technical support agent (remote)', 'customer support agent (remote)', 'technical support agent (remote ct/mt/pt usa)', 'tech support agent  remote us', 'clinical educator part time', 'perioperative educator', 'special education teacher 2022/2023 school year', 'teachers at alpha park kindercare', 'k12 director of educational partnerships, northeast  remote #1931', 'remote education advocate', 'cardiology clinical educator  cleveland', 'brand educator  cleveland, ohio (remote)', 'senior project manager', 'remote project manager', 'project manager/ship manager', 'remote  release project manager  san diego, ca or north carolina', 'sales associate', 'sales associate – luxury brand in nyc!', 'manager, sales and customer service', 'customer service/sales', 'sales and marketing representative', 'sales professional', 'sales service representative', 'sales associate / customer service representative', 'career coach counselor', 'remote work from home part time data entry  entry level', 'sales associate (providence, ri)', 'sales representative / sales associate', 'sales associates providence place', 'sales associate totally pagoda,providence place mall', 'parttime sales associate', 'sales associate ft', 'remote software developer (remote)', 'software engineer i ( 100% remote)', 'senior / lead software engineer (remote)', 'senior software engineer   virtualization group  (remote)', 'senior full stack software engineer remote', 'java software engineer  mid level (remote)', 'biotech equity research associate', 'art teacher', 'senior graphic designer', 'remote rn case manager', 'rn case manager remote', 'case manager i  remote', 'remote case manager ii', 'case manager, rn  remote', 'associate new business case manager  remote', 'di case manager  100% remote us', 'medical case manager  (remote)', 'sales associatecolony square mall', 'part time sales  zanesville, oh', 'parttime retail sales associate', 'therapeutic coach team lead', 'direct support professional/job coach', 'human resources director', 'human resources manager', 'director human resources', 'director, human resources', 'human resource coordinator', 'hr director, americas', 'human resources generalist', 'customer channel service representative', 'construction project manager  remote', '(3) construction project managers (remote) (industrial structures)', 'construction project manager (remote)', 'construction project manager  remote', 'project manager, construction manager (remote), project ...', 'remote flex  construction project manager', 'construction project manager (remote in detroit, cleveland, or...', 'real estate investment management associate (monsey)', 'senior financial analyst', 'sr. software engineer, networking (remote)', 'grc product risk analyst (remote)', 'windows packaging engineer', 'engineering lead  analytics platform', 'holman frenia allison, pc hiring for audit staff accountant job at...', 'accounting clerk', 'senior accountant, banking (lakewood)', 'audit staff accountant', 'assurance senior, public accounting', 'accountant', 'business development specialist', 'business development associate', 'business development manager  talent and technology solutions', 'business development & sales analyst ii', 'business development manager (monsey)', 'manager business development', 'business development manager private equity', 'sr manager  business development', 'information technology system administrator', 'systems administrator, it (brooklyn, ny)', 'network and systems administrator (onsite ~ not remote)', 'network and systems administrator', 'it systems administrator ii', 'network systems admin', 'systems administrator', 'regional sales manager', 'assistant sales manager  full time', 'service manager', 'regional sales director, sap  ne  united states', 'regional sales manager, video conferencing (east)', 'sales leader i  business banking sales manager', 'regional sales manager  air solutions ne', 'licensed insurance agent remote executive sales manager', 'sales leader', 'senior director finance', 'director of finance', 'financial analyst', 'vp of finance (east meadow)', 'director  fp&a / corporate finance', 'director financial business management (freeport)', 'chief financial officer', 'associate director, global capital markets documentation, gbm...', 'furniture product sales liasion', 'data analyst/manager', 'manager, data analytics', 'data analyst manager', 'senior data analyst', 'analytics manager', 'marketing analytics manager', 'data management analyst for netsmart', 'associate project manager, ivd product development (san diego, ca)', 'sr. product marketing manager  growth, music industry', 'marketing program manager, b2b', 'systems analyst  appserver admin', 'administrative executive assistant  building operations', 'office administrator', 'academic dean, voice charter school', 'assistant rn manager telemetry  night shift', 'project management administrator', 'nurse administrator', 'administrative assistant', 'site administrative assistant', 'sr. hr business partner (hybrid/remote role)', 'senior hr business partner', 'hr generalist', 'hr initiatives program lead (remote)', 'federal  nursing assistant inpatient mental health west', 'nursing assistant (inpatient mental health)', 'sylmar certified nursing assistant cna for psychiatric lockdown...', 'certified nursing assistant', 'nurse practitioner  icu davies  pd', 'mental health worker/cna, full time, nights', 'real estate agent  training provided', 'entrylevel commercial real estate agent', 'real estate agent  training provided', 'realtor', 'real estate agent', 'vp real estate', 'creative real estate agent in nyc (we train you)', 'coordinator, customer care center', 'investment service partner – customer service rep – remote option', 'customer service representative / inside sales', 'customer care embracer', 'customer support specialist', 'editor (remote or onsite)', 'director, strategy & operations', 'sr. director/head of strategy and business operations', 'management consulting director strategy and operations (san...', 'sr. director of strategy & external relations', 'manager, business strategy and operations', 'director / sr director, strategic operations management (product ...', 'staff strategic operations manager', 'project manager  strategy & operations transformation lead', 'vice president, head of global medical affairs', 'pca & esa (phase 1 & 2) vice president', 'vice president/sr. director business development  cme', 'vp, healthcare services', 'vice president of operations  indianapolis & st. louis', 'senior embedded c++ developer', 'c++ embedded engineer', 'specialist, embedded c++ software engineer', 'owner operators just announced: largest rate increase in forward...', 'hosts / hostesses', 'astonishing homecare drivers', 'c++ embedded engineer with security clearance', 'software engineering', 'banking center supervisor', 'application development l6', 'commercial construction manager', 'corporate recruiter (remote)', 'technical sourcing recruiter (us remote)', 'corporate recruiter', 'senior tech recruiter (remote)', 'fullcycle recruiter (remote)', 'senior corporate recruiter (contract)  (remote  us)', 'data analytics senior mangager', 'marketing intern', 'marketing communications intern  fall 2023', 'marketing & communications intern', 'digital marketing internship at edtech startup', 'sales intern (cle)', 'advertising design intern  2022', 'social media and marketing intern', 'vp client development', 'senior analyst, ecommerce, search marketing', 'fractional ceo  b2b  remote', 'executive assistant to the ceo', 'executive assistant to ceo', 'senior strategy lead, office of the ceo', 'ceo/cofounder', 'executive assistant to ceo at chartis federal (hybrid: remote ...', 'the judge group  new york, ny', 'sr. system administrator', 'business development executive', 'business development executive /remote with travel/  with growth...', 'global business development, business solutions specialist', 'senior accountant', 'assistant controller construction industry', 'sr accountant', 'assistant controller', 'investigator  network services', 'criminal investigator (special agent)', 'senior accountant  florham park, nj', ' construction project manager', 'real estate agent  cleveland (future opportunities)', 'real estate sales agent (draw + commission) remote  cleveland, oh', 'entry level real estate agent', 'senior real estate agent (cleveland)', 'card fraud/servcg spec', 'remote fraud support call center representative (ccc)', 'youth career coach', 'executive assistant  cardiology', 'executive assistant', 'ecommerce account manager', 'sr. manager ecommerce operations (monsey)', 'senior director, sales  retail & ecommerce (monsey)', 'vice president, marketing', 'vp marketing', 'integrated marketing, vp (retirement group)', 'vice president, marketing, msnbc', 'vice president marketing', 'senior business associate, vp', 'associate, corporate development', 'development associate', 'development associate, philanthropy', 'product development associate in nyc', 'equity research associate, biotechnology', 'equity research associate  biotechnology', 'test', 'broadcast media sales', 'dir software solutions sales senior', 'business analyst, acs publications sales', 'art director', 'senior art director', 'video art director', 'program coordinator', 'program coordinator  adult and community education', 'executive assistant  new york office', 'executive administrator', 'executive assistant to president', 'sales associate  dalhousie', 'customer service sales associate', 'parttime sales associate | crowfoot', 'sales associate full time  market mall', 'retail sales assistant', 'loss prevention (lp) detective', 'investigator support assistant (oa)', 'special education coordinator', 'field placement coordinator, school of education', 'data entry operator remote (remote)', 'data entry operator  remote', 'data entry  work from home  international applicants accepted', 'retail sales associate (parttime)  162', 'content creator', 'live content creator (seasonal)', 'social content creator (tiktok & reels specialist)', 'large law real estate associate attorney', 'commercial litigation attorney', 'commercial contracts attorney', 'medical office specialist', 'office specialist i, behavioral health, full time/days', 'retail furniture sales consultant', 'principals  secondary  locations tbd', 'associate professor/professor (tbd)  230572', 'assistant manager', 'assistant manager nyc', 'assistant manager, social media, la mer', 'assistant manager, operations | nyc downtown (multiple locations)', 'patient care tech', 'patient access representative', 'registrar', 'clerical assistant', 'file clerk remote', 'admin/clerical recruiter', 'sr mgr, outreach and engagement', 'escalations specialist  customer/patient experience coordinator  full time contract/remote', 'parttime   patient advocate', 'senior director, digital marketing  remote', 'director, digital strategy', 'virtual administrative assistant', 'remote administrative assistant', 'remote data entry/auditor', 'work from home  begin immediately  data entry clerk', 'software developer entry level', 'business analyst (entry level)', 'entry level office assistant', 'software test engineer ( entry level )', 'system software development engineer  entry level', 'satellite tv installer  entry level', 'sales associate (entry level) phoenix, az', 'remote patient advocate specialist', '$17.50hr  patient advocate  part time position  mon  fri ...', 'member health advocate ~ remote', 'bilingual care advocate (hebrew)', 'retail cashier & sales floor support  the shops at riverwalk rack', 'restaurant team member  cashier', 'retail floor leader  anthem', 'crew team member', 'business development manager', 'medical assistant', 'medical receptionist', 'medical receptionist / registrar', 'sales associate/beauty advisor', 'parttime retail sales associate', 'program manager, blended learning', 'senior project manager  education', 'technical support agent', 'it help desk technical support agent (remote/telecommute)', 'system administrator', 'it systems administrator', 'marketing advisor', 'sales representatives', 'director, acx creator marketing', 'marketing coordinator  higher education  newark, nj', 'search optimization', 'marketing and visuals manager for artist management agency', 'senior systems administrator', 'windows system administrator', 'business development manager, na marketing services', 'director of development ', 'director of development queens, ny #822', 'sales executive richmond hotel', 'senior sales executive revenue cycle management  mi, oh, ky, in', 'migrations sales executive credit union', 'senior catering sales executive', 'field sales account executive', 'sales executive fiber', 'account executive, urology  ohio and parts of w.pa, w.va', 'entry level  transaction monitoring investigator ', 'patient engagement liaison', 'advocate, patient empowerment remote', 'project managers', ' business development project manager', 'equity research associate  biotechnology', 'work from home administrative assistant skills (data entry  remote)', 'retail sales associate  furniture\\u200b/mattresses, quaker bridge mall...', 'furniture sales associates  bridgewater, n.j.', 'furniture sales associate', 'sales associate / design consultant  full time', 'customer service agent', 'customer service professional (remote)', 'ccrd customer service representative  work from home (remote)', 'remote customer service representative ($16/hr)', 'part time team member r50775', 'assistant manager(02204)  620 n memorial dr', 'clinical account executive', 'r0049: pm full time material handler', 'travel stna', 'rn supervisor', 'correctional officer', 'design consultant', 'design consultant interior design/sales consultant in englishtown at ethan allen global inc.', 'case manager ii  remote', 'sr. art director', 'lead commercial counsel', 'commercial contracts lawyer', 'vice president, product marketing', 'vp marketing & growth', 'vp, marketing  advertising revenue', 'coach, career prep', 'grocery inventory clerk part time', 'business banking relationship manager', 'restaurant operations manager', 'sr. manager, customer experience center business process', 'account delivery manager', 'new business manager  st. louis area', 'retail sales associate  part time', 'cnc programmer machinist', 'systems programmer', 'oracle ebusiness programmer & decision support', 'cnc programmer', 'mainframe programmer analyst', 'animation programmer', 'senior statistical programmer', 'programmer analyst with r consultant', 'inbound claims & call center representative (icare)', 'real estate acquisitions analyst / sr. analyst', 'acquisitions, associate', 'real estate acquisitions sales associate  start immediately', 'senior accountant (remote)', 'senior accountant (remote) (remote)', 'staff accountant', 'commercial real estate attorney', 'real estate attorney (4+ yrs)', 'career coach (100% remote / pharmacy)', 'healthcare administrative assistant – urgent hiring', 'administrative assistant  remote / online / work from home (pt/ft)', 'work from home part time administrative assistant / customer...', 'administrative assistant iii (part time) – remote, work from anywhere', 'network system administrator', 'entry level customer service representative (remote)', 'entry level claims and customer service positions! training program and career growth! chicago, il', 'executive administrative assistant, brokerage', 'real estate paralegal or executive assistant', 'administrative assistant to global real estate institutional...', 'vice president, operations', 'vice president of business intelligence', 'vice president & chief financial officer', 'vice president operations excellence', 'vice president of solution sales  financial services', 'executive coordinator, office of the president', 'senior data security engineer, vice president  remote', 'vice president, business development', 'vice president of marketing', 'customer service representative (fully remote)', 'customer experience specialist ii  remote', 'ecommerce project manager', 'sr. ecommerce marketing director', 'director, ecommerce & growth', 'nam ecommerce retail channel marketing leader', 'ft sales associate', 'retail sales associate (all positions)', 'vans retail sales associate (beachwood place mall 496 beachwood, oh)', 'luxury sales stylist  mens combo  saks fifth avenue', 'global investment research, equity research, heathcare  biotech...', 'equity research associate', 'equity research associate, biotech', 'executive assistantremote', 'travel registered nurse (rn)', 'travel nurse  rn  tele  telemetry  $2397.79 / week', 'registered nurse  rn  senior care!', 'registered nurse (rn)  parma', 'teletelemetry nurse rn  travel jobs', 'rn, registered nurse  endoscopy', 'equity research biotech associate', 't mobile work from home – customer service associate expert – $20/hr.', 'remote logistics customer service rep', 'project intern', 'contracting project management intern', 'marketing project intern', 'management internship', 'human resources internship  corporate  (yearround)', 'writer / journalist internship', 'inbound customer service / sales (remote)', 'remote inbound customer service representative']\n",
            "['hr', 'designer', 'information-technology', 'teacher', 'advocate', 'business-development', 'healthcare', 'fitness', 'agriculture', 'bpo', 'sales', 'consultant', 'digital-media', 'automobile', 'chef', 'finance', 'apparel', 'engineering', 'accountant', 'construction', 'public-relations', 'banking', 'arts', 'aviation']\n"
          ]
        }
      ]
    },
    {
      "cell_type": "code",
      "source": [
        "print(job[\"train\"][6][\"job_description\"] + \"\\n\\n\" + job[\"train\"][6][\"position_title\"] + \"\\n\\n\"  + resume[\"Resume_str\"][250])"
      ],
      "metadata": {
        "colab": {
          "base_uri": "https://localhost:8080/"
        },
        "id": "dd106C_nX9_a",
        "outputId": "e69c0f56-552a-4d54-a0f6-387c780ffef6"
      },
      "execution_count": 76,
      "outputs": [
        {
          "output_type": "stream",
          "name": "stdout",
          "text": [
            "about the position\n",
            "\n",
            "the web designer is responsible for providing designrelated support for clientrelated and internal projects\n",
            "\n",
            "additionally the web designer is responsible for providing designrelated support for projects that are currently in development client review and postlaunch when assigned\n",
            "\n",
            "daytoday\n",
            " collaborate closely with design managers on websiterelated projects including finishing projects that have a set art direction to hand over to the development team\n",
            " work crossfunctionally with content and development teams which includes facilitating design discussions and adjusting existing designswebsites based on client feedback in preparation for the launch of their sites\n",
            " partner with development teams to ensure the implementation of your designs and user experiences are of the highest quality\n",
            " use and evolve our design systemlibrary to craft sketches flows prototypes and highfidelity visuals for client websites and product features\n",
            " work closely with design leadership to inform and improve our processes identifying opportunities for elevating our product and user experience\n",
            " provide designrelated support for postlaunch projects\n",
            "\n",
            "requirements\n",
            "\n",
            "our ideal candidate\n",
            " is detailoriented has an excellent eye for detail and enjoys delivering pixelperfect and welldocumented designs\n",
            " knows how to design websites has experience working with and understanding responsive design patterns and systems\n",
            " is prepared to take the baton and run gladly takes on projects with set art direction and finishes off remaining design production work\n",
            " has design system experience has experience working with scalable design systems within an inhouse design team\n",
            " is a team contributor more than willing to work with design managers to develop the strategy and rationale for features and improvements to internal processes\n",
            " can speak up and be understood has strong verbal and written communication skills which is a must for a remote company\n",
            " can adjust and pivot can navigate and move forward quickly within a fastscaling company and an everevolving creator website tool\n",
            " is hungry to improve gladly welcome feedback on their own performance from design managers along with nondesigners with the intent of professional growth in the company\n",
            " most importantly can joke around a sense of humor is a must in our company\n",
            "\n",
            "our company culture revolves around among other things working hard and laughing harder\n",
            "\n",
            "requirements\n",
            "  years of experience as an individual contributor on a web or product design team for desktop and mobile\n",
            " an excellent portfolio showcasing a strong foundation in typography interaction and visual design and ideation\n",
            "\n",
            "bonus props for personal projects that display your design aesthetic and passions\n",
            " solid understanding of building usable accessible ada and modular design systems that can scale\n",
            "\n",
            "bonus props for certification in or related to ada\n",
            " experience facilitating the adoption of visual design andor patterns across a design project\n",
            " excellent understanding of figma and other design tools\n",
            " excellent written and verbal communication skills and ability to clearly communicate design decisions\n",
            " strong organizational skills and a selfstarter\n",
            "\n",
            "benefits\n",
            " remote always\n",
            " generous pto\n",
            " allowance for continuing education or training\n",
            " shiny new gear of your choice apple products\n",
            " medical dental longterm and short term disability insurance\n",
            " companysponsored life insurance\n",
            "\n",
            "dont meet  of the qualifications above thats okay apply anyway \n",
            "\n",
            "Remote Website Designer\n",
            "\n",
            "         SENIOR DIRECTOR, INFORMATION TECHNOLOGY       Executive Profile     A distinguish Director of Information technology with expertise in diverse range of industries within multiple industries settings globally. Demonstrated success in Network design and management, Enterprise Resource Planning implementation and management, Cloud Technologies and Internet Technologies. Well Organized, results oriented individual with proven ability to implement standards, processes and procedures the improve business functionality. Solid management skills, capable of building, leading and motivating individuals to maximize productivity while forming cohesive team environments. Exceptional communicator focused on building strong client relationships.       Skill Highlights          Small business development  Project management  Leadership/communication skills  Business operations organization  Client account management  Negotiations expert  Budgeting expertise  Employee relations  Self-motivated   Collaborative    Decisive        Enterprise platforms  Forecasting specialist  Knowledge of Product Lifecycle Management (PLM)  Hardware and software upgrade planning  Product requirements documentation  Self-directed  Scrum methodology  Performance criteria tracking            Core Accomplishments      Saved more than $ 10 million amortized over 3 years by using cloud technologies instead of buying new infrastructure hardware to upgrade infrastructure for Weston Educational Group.      ​       Directed the implementation of a new Student Information System and Customer Relations Management system for 2 colleges. Both projects were completed on-time and under budget.                 Increased core system availability to  99.999 % by developing standards and architectural governance and implementing best practices.                     Led a successful implementation and integration of an acquired college into the Weston Educational Group. Project was completed a month ahead of schedule and under budget.                           Reduced the incidence of IT issues by  50 % globally by using visualization tools such as Tableau and DOMO to identify trends in support tickets which resulted in more training to address root causes.                              Operations Management:           Managed  all technologies at 10 campuses spread from Florida to California for Weston Educational Group . These technologies were used by students, faculty, campus administration and corporate office staff and executives.   I oversaw all  day to day operations of the Information Technology department of Weston Educational Group.       Staff Development:        At Weston, restructured the team to a smaller more flexible team and used outsourced resources for more specialized functions. This resulted in a 60% reduction in payroll expense     At American Career College and West Coast University, I mentored and coached employees resulting in no staff turnover and also been recognized as one of the best Business Analyst team in Campus Management Corporation implemented sites globally.  At BatchMaster Software, I launched a new consultant group to implement a manufacturing based ERP system using the rapid implementation module I devised. This increased successful implementation by 80% and reduced implementation time to 4 weeks.  At BatchMaster Software, I also implemented a support team in India that provided post implementation support based on new policies and procedures I created. Customer satisfaction increased by 75%.     I was voted the employee of the year in 2010 out of over a thousand employees for outstanding contributions and going above and beyond.    Presented at industry conferences every year starting from 2012 on integrated solutions and automations tools to help improve efficiency and data integrity.        Professional Experience     02/2015   to   11/2016     Senior Director, Information Technology    Company Name   －   City  ,   State     Weston Educational Group Inc, is a private post-secondary institution focused on the Allied Health and Personal Wellness sector. It has 3 major brands with campuses spread from Florida through to California. As the Senior Director, I oversaw the day to day operations of all aspects of technology. This included a student and faculty portal that needed to be support 24/7, a Student Information System (SIS) that was used to manage all aspects of the student matriculation from a lead, through financial aid to academics, student services and career services.  ​     Spearheaded  phone system migration to the cloud , resulting in a  99.999 % uptime in the phone system. It also reduced the maintenance cost that comes with an outdated system to $0 and allowed us to manage the system remotely.        Accountable for  Information Technology  (IT) including overall customer satisfaction.         Managed team of  6 IT  professionals. I restructured the department and reduced the team to 6 generalized IT personal and outsourced functions that required specialized functions. This reduced payroll expense by 60%.        Spearheaded cross-functional initiative to achieve  a smooth integration of Missouri College after it was acquired into the Weston Education Group .         Strengthened company's business by leading implementation of  industry leading SIS for the management of the campuses and CRM for admissions.         Negotiated a new contracts with vendors to reduce prices by as much as 28%.        Developed and launched regular training sessions to help associates with most common reported issues. Used DOMO to visualize trends in support cases and then developed training materials on the most common reported issues.        Instituted a new web based support ticketing system which allowed students, faculty and staff members to generate tickets requesting for help. Prior to this system only staff members could generate support tickets on an internal system. The new system had rules incorporated which auto routed tickets based on the characteristics selected.        Recommended and implemented all of the enterprise applications onto the cloud. This saved the organization $10 million amortized over 3 years if we were to have upgraded the infrastructure in-house to accommodate the new enterprise applications.        Launched the migration of the staff and faculty to Office 365 (Microsoft's cloud version of office) after migrating the students. This enabled every user to have access to the latest version of the complete Office suite and  One-drive for individual file storage. From a system point of view, the enterprise has access to the latest versions of systems from Microsoft plus an infinite access to Microsoft resources to support the infrastructure.         07/2009   to   02/2015     Senior Manager, Student Information System    Company Name   －   City  ,   State     American Career College and West Coast University is a private post-secondary institution that trains students in the Allied Health sector with annual revenue of over $300 million. Oversaw the Student Information System for both brands which had a student portal, faculty portal and several integrations into other systems such as a CRM system and internal applications developed on SharePoint platform.  ​  ​Hired and managed a team of Business Analysts and support engineers to support the Student Information System (SIS).   ​  Developed business processes and Service Level Agreements used by the business analysts and support engineers.  ​  Oversaw an off-shore development team in India to develop innovative solutions on SharePoint platform integrated into the SIS as a means of adding automation to enhance productivity and data validation.  ​  Managed the relationships with vendors associated with the student information system.  ​  Started with the organization as an IT Manager and led the team to stabilize the environment.  ​  Collaborated with the HR department to develop on-board training on systems. This increased the ROI on new associated from day 1 and reduced the number of support tickets from new associates.  ​  I was a key member in the process of planning and moving from a small server room to AT&T collocated datacenter.  ​  I advised in the development and relocation of two of the West Coast campuses.        01/2005   to   08/2009     President    Company Name   －   City  ,   State     Aldreteem Inc was created to support small to mid-sized organizations that wanted to implement Enterprise Resource Planning systems but did not have the resources to manage the system in-house.       Accountable for  the entire business  including overall customer satisfaction and profitability.            Created new revenue streams through  by partnering with other ERP vendors that did not have our expertise to deploy solutions on Sage, SAP, Great Plains and Epicor.          Generated new business by signing a national agreement with a leading national hospitality company to manage their ERP system and provide auxiliary IT services.           Strengthened company's business by leading implementation of  all projects.           03/2001   to   12/2004     Director, Client Services    Company Name   －   City  ,   State     BatchMaster Software Inc develops an Enterprise Resource Planning system for the process manufacturing industries integrated into Sage Platinum, SAP Business One and Microsoft Great Plains. Prior to joining eWorkPlace, their solution was deployed through a network of resellers who did the implementation and primary support. I created new revenue streams for both parties by creating the Client Services group where the resellers focused on client relationships and sales. They could resell our services.  ​   Increased revenue by 60% through the creation of the client services department. The department performed implementations and support.        Created the Rapid implementation process where we reduced the implementation from months to 4 weeks.        Strengthened company's business by initiating and leading the development of the relationship with SAP.        Spearheaded the implementation of an off-shore support team to support customers post implementation. Customers found the team helpful with upgrades and update and well as phone support software maintenance renewal increased by 80%.        Created and spearheaded  the customer satisfaction survey , resulting in a  45 % increase in customer satisfaction which resulted in customers renewing their yearly software maintenance which increased revenue.          Education     2010       Business Administration    Walden University   －   City  ,   State  ,   USA       3.85  GPA      Minor in  Leadership                       Bachelor of Science  :   Information and Business Systems Technology    University of Essex   －   City  ,   State  ,   UK      Member of  the world famous Essex University Afro-Carib  Club      Played soccer for the University           Skills     Enterprise Resource Planning Systems   Education Software: Campus Nexus Student, Student and Faculty portal  Accounting Systems: Sage Platinum, Microsoft Great Plains, AccountMate, SAP Business One   Learning Management Systems: Dialoge EDU; eCollege; Moodle Rooms  Manufacturing Systems: BatchMaster  Customer Relationship Management Systems: Microsoft Great Plains CRM, Campus Nexus CRM,    Enterprise BackOffice Systems   Microsoft Server  Microsoft SQL server  Microsoft Exchange  Microsoft SharePoint  Linux  Storage Area Network  Active Directory  Microsoft Terminal Services  Microsoft Remote desktop Services  Citrix    Network Devices and Monitoring Tools   Juniper switches, routers and firewalls  Netgear switches, routers and firewalls  CISCO switches, routers and firewalls  Solarwinds network monitoring tools  Sophos Unified Threat Management  IDERA SQL Management  WebSense   Virtual System   VMWare  HyperV  Cloud based phone systems  Cloud based storage and backup   Cloud Technologies   Amazon Web Services  Microsoft Azure and O365   Miscellaneous Applications and Desktop Applications   Microsoft Office suite  Sophos Anti-Virus  Sophos Mobile Device Management  DeepFreeze Desktop management     \n"
          ]
        }
      ]
    },
    {
      "cell_type": "markdown",
      "source": [
        "Ways to calc similarity:\n",
        "\n",
        "Cosine Similarity: Cosine similarity is widely used for comparing text documents. It measures the cosine of the angle between two feature vectors, providing a value between -1 and 1. A higher value indicates greater similarity.\n",
        "\n",
        "Jaccard Similarity: Jaccard similarity measures the size of the intersection of two sets divided by the size of their union. It is often used for document similarity based on word presence.\n",
        "\n",
        "Euclidean Distance: This metric measures the straight-line distance between two feature vectors in the multi-dimensional space. Smaller distances indicate greater similarity."
      ],
      "metadata": {
        "id": "JnYj4froa5fK"
      }
    }
  ]
}