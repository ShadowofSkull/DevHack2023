{
  "nbformat": 4,
  "nbformat_minor": 0,
  "metadata": {
    "colab": {
      "provenance": [],
      "gpuType": "T4",
      "mount_file_id": "1W_lk_qekAsBahi7v2-0BmW1rnoL96ruL",
      "authorship_tag": "ABX9TyMmiV4wZl7G4Ev1nf3++eSF",
      "include_colab_link": true
    },
    "kernelspec": {
      "name": "python3",
      "display_name": "Python 3"
    },
    "language_info": {
      "name": "python"
    },
    "accelerator": "GPU"
  },
  "cells": [
    {
      "cell_type": "markdown",
      "metadata": {
        "id": "view-in-github",
        "colab_type": "text"
      },
      "source": [
        "<a href=\"https://colab.research.google.com/github/ShadowofSkull/DevHack2023/blob/main/gcolab/Doc2Vec.ipynb\" target=\"_parent\"><img src=\"https://colab.research.google.com/assets/colab-badge.svg\" alt=\"Open In Colab\"/></a>"
      ]
    },
    {
      "cell_type": "code",
      "execution_count": 9,
      "metadata": {
        "colab": {
          "base_uri": "https://localhost:8080/"
        },
        "id": "le7JAcFoZzlm",
        "outputId": "6712e2b2-b5e1-45f7-c513-0fa23fe7bfe7"
      },
      "outputs": [
        {
          "output_type": "stream",
          "name": "stdout",
          "text": [
            "Requirement already satisfied: gensim in /usr/local/lib/python3.10/dist-packages (4.3.2)\n",
            "Requirement already satisfied: numpy>=1.18.5 in /usr/local/lib/python3.10/dist-packages (from gensim) (1.23.5)\n",
            "Requirement already satisfied: scipy>=1.7.0 in /usr/local/lib/python3.10/dist-packages (from gensim) (1.11.3)\n",
            "Requirement already satisfied: smart-open>=1.8.1 in /usr/local/lib/python3.10/dist-packages (from gensim) (6.4.0)\n",
            "Requirement already satisfied: spacy in /usr/local/lib/python3.10/dist-packages (3.6.1)\n",
            "Requirement already satisfied: spacy-legacy<3.1.0,>=3.0.11 in /usr/local/lib/python3.10/dist-packages (from spacy) (3.0.12)\n",
            "Requirement already satisfied: spacy-loggers<2.0.0,>=1.0.0 in /usr/local/lib/python3.10/dist-packages (from spacy) (1.0.5)\n",
            "Requirement already satisfied: murmurhash<1.1.0,>=0.28.0 in /usr/local/lib/python3.10/dist-packages (from spacy) (1.0.10)\n",
            "Requirement already satisfied: cymem<2.1.0,>=2.0.2 in /usr/local/lib/python3.10/dist-packages (from spacy) (2.0.8)\n",
            "Requirement already satisfied: preshed<3.1.0,>=3.0.2 in /usr/local/lib/python3.10/dist-packages (from spacy) (3.0.9)\n",
            "Requirement already satisfied: thinc<8.2.0,>=8.1.8 in /usr/local/lib/python3.10/dist-packages (from spacy) (8.1.12)\n",
            "Requirement already satisfied: wasabi<1.2.0,>=0.9.1 in /usr/local/lib/python3.10/dist-packages (from spacy) (1.1.2)\n",
            "Requirement already satisfied: srsly<3.0.0,>=2.4.3 in /usr/local/lib/python3.10/dist-packages (from spacy) (2.4.8)\n",
            "Requirement already satisfied: catalogue<2.1.0,>=2.0.6 in /usr/local/lib/python3.10/dist-packages (from spacy) (2.0.10)\n",
            "Requirement already satisfied: typer<0.10.0,>=0.3.0 in /usr/local/lib/python3.10/dist-packages (from spacy) (0.9.0)\n",
            "Requirement already satisfied: pathy>=0.10.0 in /usr/local/lib/python3.10/dist-packages (from spacy) (0.10.3)\n",
            "Requirement already satisfied: smart-open<7.0.0,>=5.2.1 in /usr/local/lib/python3.10/dist-packages (from spacy) (6.4.0)\n",
            "Requirement already satisfied: tqdm<5.0.0,>=4.38.0 in /usr/local/lib/python3.10/dist-packages (from spacy) (4.66.1)\n",
            "Requirement already satisfied: numpy>=1.15.0 in /usr/local/lib/python3.10/dist-packages (from spacy) (1.23.5)\n",
            "Requirement already satisfied: requests<3.0.0,>=2.13.0 in /usr/local/lib/python3.10/dist-packages (from spacy) (2.31.0)\n",
            "Requirement already satisfied: pydantic!=1.8,!=1.8.1,<3.0.0,>=1.7.4 in /usr/local/lib/python3.10/dist-packages (from spacy) (1.10.13)\n",
            "Requirement already satisfied: jinja2 in /usr/local/lib/python3.10/dist-packages (from spacy) (3.1.2)\n",
            "Requirement already satisfied: setuptools in /usr/local/lib/python3.10/dist-packages (from spacy) (67.7.2)\n",
            "Requirement already satisfied: packaging>=20.0 in /usr/local/lib/python3.10/dist-packages (from spacy) (23.2)\n",
            "Requirement already satisfied: langcodes<4.0.0,>=3.2.0 in /usr/local/lib/python3.10/dist-packages (from spacy) (3.3.0)\n",
            "Requirement already satisfied: typing-extensions>=4.2.0 in /usr/local/lib/python3.10/dist-packages (from pydantic!=1.8,!=1.8.1,<3.0.0,>=1.7.4->spacy) (4.5.0)\n",
            "Requirement already satisfied: charset-normalizer<4,>=2 in /usr/local/lib/python3.10/dist-packages (from requests<3.0.0,>=2.13.0->spacy) (3.3.1)\n",
            "Requirement already satisfied: idna<4,>=2.5 in /usr/local/lib/python3.10/dist-packages (from requests<3.0.0,>=2.13.0->spacy) (3.4)\n",
            "Requirement already satisfied: urllib3<3,>=1.21.1 in /usr/local/lib/python3.10/dist-packages (from requests<3.0.0,>=2.13.0->spacy) (2.0.7)\n",
            "Requirement already satisfied: certifi>=2017.4.17 in /usr/local/lib/python3.10/dist-packages (from requests<3.0.0,>=2.13.0->spacy) (2023.7.22)\n",
            "Requirement already satisfied: blis<0.8.0,>=0.7.8 in /usr/local/lib/python3.10/dist-packages (from thinc<8.2.0,>=8.1.8->spacy) (0.7.11)\n",
            "Requirement already satisfied: confection<1.0.0,>=0.0.1 in /usr/local/lib/python3.10/dist-packages (from thinc<8.2.0,>=8.1.8->spacy) (0.1.3)\n",
            "Requirement already satisfied: click<9.0.0,>=7.1.1 in /usr/local/lib/python3.10/dist-packages (from typer<0.10.0,>=0.3.0->spacy) (8.1.7)\n",
            "Requirement already satisfied: MarkupSafe>=2.0 in /usr/local/lib/python3.10/dist-packages (from jinja2->spacy) (2.1.3)\n",
            "Requirement already satisfied: pandas in /usr/local/lib/python3.10/dist-packages (1.5.3)\n",
            "Requirement already satisfied: python-dateutil>=2.8.1 in /usr/local/lib/python3.10/dist-packages (from pandas) (2.8.2)\n",
            "Requirement already satisfied: pytz>=2020.1 in /usr/local/lib/python3.10/dist-packages (from pandas) (2023.3.post1)\n",
            "Requirement already satisfied: numpy>=1.21.0 in /usr/local/lib/python3.10/dist-packages (from pandas) (1.23.5)\n",
            "Requirement already satisfied: six>=1.5 in /usr/local/lib/python3.10/dist-packages (from python-dateutil>=2.8.1->pandas) (1.16.0)\n",
            "2023-11-04 10:05:48.486067: E tensorflow/compiler/xla/stream_executor/cuda/cuda_dnn.cc:9342] Unable to register cuDNN factory: Attempting to register factory for plugin cuDNN when one has already been registered\n",
            "2023-11-04 10:05:48.486127: E tensorflow/compiler/xla/stream_executor/cuda/cuda_fft.cc:609] Unable to register cuFFT factory: Attempting to register factory for plugin cuFFT when one has already been registered\n",
            "2023-11-04 10:05:48.486164: E tensorflow/compiler/xla/stream_executor/cuda/cuda_blas.cc:1518] Unable to register cuBLAS factory: Attempting to register factory for plugin cuBLAS when one has already been registered\n",
            "2023-11-04 10:05:50.068784: W tensorflow/compiler/tf2tensorrt/utils/py_utils.cc:38] TF-TRT Warning: Could not find TensorRT\n",
            "Collecting en-core-web-sm==3.6.0\n",
            "  Downloading https://github.com/explosion/spacy-models/releases/download/en_core_web_sm-3.6.0/en_core_web_sm-3.6.0-py3-none-any.whl (12.8 MB)\n",
            "\u001b[2K     \u001b[90m━━━━━━━━━━━━━━━━━━━━━━━━━━━━━━━━━━━━━━━━\u001b[0m \u001b[32m12.8/12.8 MB\u001b[0m \u001b[31m100.7 MB/s\u001b[0m eta \u001b[36m0:00:00\u001b[0m\n",
            "\u001b[?25hRequirement already satisfied: spacy<3.7.0,>=3.6.0 in /usr/local/lib/python3.10/dist-packages (from en-core-web-sm==3.6.0) (3.6.1)\n",
            "Requirement already satisfied: spacy-legacy<3.1.0,>=3.0.11 in /usr/local/lib/python3.10/dist-packages (from spacy<3.7.0,>=3.6.0->en-core-web-sm==3.6.0) (3.0.12)\n",
            "Requirement already satisfied: spacy-loggers<2.0.0,>=1.0.0 in /usr/local/lib/python3.10/dist-packages (from spacy<3.7.0,>=3.6.0->en-core-web-sm==3.6.0) (1.0.5)\n",
            "Requirement already satisfied: murmurhash<1.1.0,>=0.28.0 in /usr/local/lib/python3.10/dist-packages (from spacy<3.7.0,>=3.6.0->en-core-web-sm==3.6.0) (1.0.10)\n",
            "Requirement already satisfied: cymem<2.1.0,>=2.0.2 in /usr/local/lib/python3.10/dist-packages (from spacy<3.7.0,>=3.6.0->en-core-web-sm==3.6.0) (2.0.8)\n",
            "Requirement already satisfied: preshed<3.1.0,>=3.0.2 in /usr/local/lib/python3.10/dist-packages (from spacy<3.7.0,>=3.6.0->en-core-web-sm==3.6.0) (3.0.9)\n",
            "Requirement already satisfied: thinc<8.2.0,>=8.1.8 in /usr/local/lib/python3.10/dist-packages (from spacy<3.7.0,>=3.6.0->en-core-web-sm==3.6.0) (8.1.12)\n",
            "Requirement already satisfied: wasabi<1.2.0,>=0.9.1 in /usr/local/lib/python3.10/dist-packages (from spacy<3.7.0,>=3.6.0->en-core-web-sm==3.6.0) (1.1.2)\n",
            "Requirement already satisfied: srsly<3.0.0,>=2.4.3 in /usr/local/lib/python3.10/dist-packages (from spacy<3.7.0,>=3.6.0->en-core-web-sm==3.6.0) (2.4.8)\n",
            "Requirement already satisfied: catalogue<2.1.0,>=2.0.6 in /usr/local/lib/python3.10/dist-packages (from spacy<3.7.0,>=3.6.0->en-core-web-sm==3.6.0) (2.0.10)\n",
            "Requirement already satisfied: typer<0.10.0,>=0.3.0 in /usr/local/lib/python3.10/dist-packages (from spacy<3.7.0,>=3.6.0->en-core-web-sm==3.6.0) (0.9.0)\n",
            "Requirement already satisfied: pathy>=0.10.0 in /usr/local/lib/python3.10/dist-packages (from spacy<3.7.0,>=3.6.0->en-core-web-sm==3.6.0) (0.10.3)\n",
            "Requirement already satisfied: smart-open<7.0.0,>=5.2.1 in /usr/local/lib/python3.10/dist-packages (from spacy<3.7.0,>=3.6.0->en-core-web-sm==3.6.0) (6.4.0)\n",
            "Requirement already satisfied: tqdm<5.0.0,>=4.38.0 in /usr/local/lib/python3.10/dist-packages (from spacy<3.7.0,>=3.6.0->en-core-web-sm==3.6.0) (4.66.1)\n",
            "Requirement already satisfied: numpy>=1.15.0 in /usr/local/lib/python3.10/dist-packages (from spacy<3.7.0,>=3.6.0->en-core-web-sm==3.6.0) (1.23.5)\n",
            "Requirement already satisfied: requests<3.0.0,>=2.13.0 in /usr/local/lib/python3.10/dist-packages (from spacy<3.7.0,>=3.6.0->en-core-web-sm==3.6.0) (2.31.0)\n",
            "Requirement already satisfied: pydantic!=1.8,!=1.8.1,<3.0.0,>=1.7.4 in /usr/local/lib/python3.10/dist-packages (from spacy<3.7.0,>=3.6.0->en-core-web-sm==3.6.0) (1.10.13)\n",
            "Requirement already satisfied: jinja2 in /usr/local/lib/python3.10/dist-packages (from spacy<3.7.0,>=3.6.0->en-core-web-sm==3.6.0) (3.1.2)\n",
            "Requirement already satisfied: setuptools in /usr/local/lib/python3.10/dist-packages (from spacy<3.7.0,>=3.6.0->en-core-web-sm==3.6.0) (67.7.2)\n",
            "Requirement already satisfied: packaging>=20.0 in /usr/local/lib/python3.10/dist-packages (from spacy<3.7.0,>=3.6.0->en-core-web-sm==3.6.0) (23.2)\n",
            "Requirement already satisfied: langcodes<4.0.0,>=3.2.0 in /usr/local/lib/python3.10/dist-packages (from spacy<3.7.0,>=3.6.0->en-core-web-sm==3.6.0) (3.3.0)\n",
            "Requirement already satisfied: typing-extensions>=4.2.0 in /usr/local/lib/python3.10/dist-packages (from pydantic!=1.8,!=1.8.1,<3.0.0,>=1.7.4->spacy<3.7.0,>=3.6.0->en-core-web-sm==3.6.0) (4.5.0)\n",
            "Requirement already satisfied: charset-normalizer<4,>=2 in /usr/local/lib/python3.10/dist-packages (from requests<3.0.0,>=2.13.0->spacy<3.7.0,>=3.6.0->en-core-web-sm==3.6.0) (3.3.1)\n",
            "Requirement already satisfied: idna<4,>=2.5 in /usr/local/lib/python3.10/dist-packages (from requests<3.0.0,>=2.13.0->spacy<3.7.0,>=3.6.0->en-core-web-sm==3.6.0) (3.4)\n",
            "Requirement already satisfied: urllib3<3,>=1.21.1 in /usr/local/lib/python3.10/dist-packages (from requests<3.0.0,>=2.13.0->spacy<3.7.0,>=3.6.0->en-core-web-sm==3.6.0) (2.0.7)\n",
            "Requirement already satisfied: certifi>=2017.4.17 in /usr/local/lib/python3.10/dist-packages (from requests<3.0.0,>=2.13.0->spacy<3.7.0,>=3.6.0->en-core-web-sm==3.6.0) (2023.7.22)\n",
            "Requirement already satisfied: blis<0.8.0,>=0.7.8 in /usr/local/lib/python3.10/dist-packages (from thinc<8.2.0,>=8.1.8->spacy<3.7.0,>=3.6.0->en-core-web-sm==3.6.0) (0.7.11)\n",
            "Requirement already satisfied: confection<1.0.0,>=0.0.1 in /usr/local/lib/python3.10/dist-packages (from thinc<8.2.0,>=8.1.8->spacy<3.7.0,>=3.6.0->en-core-web-sm==3.6.0) (0.1.3)\n",
            "Requirement already satisfied: click<9.0.0,>=7.1.1 in /usr/local/lib/python3.10/dist-packages (from typer<0.10.0,>=0.3.0->spacy<3.7.0,>=3.6.0->en-core-web-sm==3.6.0) (8.1.7)\n",
            "Requirement already satisfied: MarkupSafe>=2.0 in /usr/local/lib/python3.10/dist-packages (from jinja2->spacy<3.7.0,>=3.6.0->en-core-web-sm==3.6.0) (2.1.3)\n",
            "\u001b[38;5;2m✔ Download and installation successful\u001b[0m\n",
            "You can now load the package via spacy.load('en_core_web_sm')\n",
            "Requirement already satisfied: numpy in /usr/local/lib/python3.10/dist-packages (1.23.5)\n"
          ]
        }
      ],
      "source": [
        "!pip install gensim\n",
        "!pip install spacy\n",
        "!pip install pandas\n",
        "!python -m spacy download en_core_web_sm\n",
        "!pip install numpy"
      ]
    },
    {
      "cell_type": "code",
      "source": [
        "from gensim.models.doc2vec import Doc2Vec, TaggedDocument\n",
        "import gensim\n",
        "import spacy\n",
        "import pandas as pd\n",
        "import numpy as np\n",
        "from numpy.linalg import norm"
      ],
      "metadata": {
        "id": "zJoECjxUZ5P1"
      },
      "execution_count": 12,
      "outputs": []
    },
    {
      "cell_type": "code",
      "source": [
        "#Preprocessing data\n",
        "\n",
        "job_df = pd.read_csv(\"drive/MyDrive/Colab Notebooks/data/nyc-jobs.csv\")\n",
        "job_df = job_df[[\"Business Title\", \"Job Category\", \"Job Description\", \"Minimum Qual Requirements\", \"Preferred Skills\"]]\n",
        "# salary = job_df[[\"Salary Range From\", \"Salary Range To\", \"Salary Frequency\", \"Full-Time/Part-Time indicator\"]]\n",
        "\n",
        "# Combining them all into a column\n",
        "job_df = job_df.astype(str)\n",
        "job_df[\"data\"] =  job_df[[\"Business Title\", \"Job Category\", \"Job Description\", \"Minimum Qual Requirements\", \"Preferred Skills\"]].agg(\" \".join, axis=1)\n",
        "job_df.drop([\"Business Title\", \"Job Category\", \"Job Description\", \"Minimum Qual Requirements\", \"Preferred Skills\"], axis=1, inplace=True)\n",
        "print(job_df)"
      ],
      "metadata": {
        "colab": {
          "base_uri": "https://localhost:8080/"
        },
        "id": "Ag6OdnPBhGzT",
        "outputId": "762eedfa-15d3-438e-c46f-0eda76acb856"
      },
      "execution_count": 3,
      "outputs": [
        {
          "output_type": "stream",
          "name": "stdout",
          "text": [
            "                                                   data\n",
            "0     Account Manager nan Division of Economic & Fin...\n",
            "1     EXECUTIVE DIRECTOR, BUSINESS DEVELOPMENT nan T...\n",
            "2     Maintenance Worker - Technical Services-Heatin...\n",
            "3     Maintenance Worker - Technical Services-Heatin...\n",
            "4     Temporary Painter Maintenance & Operations Res...\n",
            "...                                                 ...\n",
            "2941  Senior Mechanical Cost Estimator Engineering, ...\n",
            "2942  Senior Mechanical Cost Estimator Engineering, ...\n",
            "2943  Conversion Coordinator Building Operations & M...\n",
            "2944  Conversion Coordinator Building Operations & M...\n",
            "2945  Administrative Associate Administration & Huma...\n",
            "\n",
            "[2946 rows x 1 columns]\n"
          ]
        }
      ]
    },
    {
      "cell_type": "code",
      "source": [
        "# Tokenize the documents\n",
        "nlp = spacy.load('en_core_web_sm')\n",
        "data = list(job_df['data'])\n",
        "\n",
        "tokenized_documents = []\n",
        "for doc in data:\n",
        "    tokens = [token.text for token in nlp(doc)]\n",
        "    tokenized_documents.append(tokens)\n",
        "\n",
        "# Create TaggedDocument objects\n",
        "tagged_data = [TaggedDocument(words=doc, tags=[str(i)]) for i, doc in enumerate(tokenized_documents)]\n"
      ],
      "metadata": {
        "id": "Od1B3uHasXBm"
      },
      "execution_count": 5,
      "outputs": []
    },
    {
      "cell_type": "code",
      "source": [
        "\n",
        "\n",
        "# Train the Doc2Vec model\n",
        "model = Doc2Vec(vector_size=100, window=5, min_count=1, dm=1, epochs=20)\n",
        "\n",
        "# Build vocabulary\n",
        "model.build_vocab(tagged_data)\n",
        "\n",
        "# Train the model on the dataset\n",
        "model.train(tagged_data, total_examples=model.corpus_count, epochs=model.epochs)\n",
        "\n",
        "# Save the model if you want to reuse it later\n",
        "model.save(\"drive/MyDrive/Colab Notebooks/models/doc2vec_model\")\n",
        "\n"
      ],
      "metadata": {
        "id": "q8ld9nyRehZH"
      },
      "execution_count": 8,
      "outputs": []
    },
    {
      "cell_type": "code",
      "source": [
        "# Model evaluation\n",
        "resume_df = pd.read_csv(\"drive/MyDrive/Colab Notebooks/data/Resume.csv\")\n",
        "\n",
        "resumes = list(resume_df[\"Resume_str\"])\n",
        "print(resumes[310])\n",
        "resume = resumes[310]\n",
        "# resume = \"\"\"I eat burger\"\"\"\n",
        "job_desc = \"\"\"Detailed knowledge of the Linux OS (RHEL ideally, with Ubuntu knowledge)DBA skills in MySQL (e.g. backups, restores, configurations), other DBs acceptableWebserver configuration (Apache and NGnix)Knowledge of Java based application systems (Tomcat ideal, JBoss and others acceptable)Knowledge of scripting (shell/php/sed/awk/etc..)Willingness to support out of hours and be on call if requiredAWS/Azure/Bare-metal builds.Hudson/Jenkins/Automated build and deploy tools (installation and maintenance)Source Control (SVN/GIT) installation and maintenanceGood written and verbal skillsÂ Useful extra knowledge and skills:Experience with CMS systems (CQ)Programming knowledge (Java ideal)Virtualization (e.g. HyperV)Windows server support and IIS knowledgePostgres DBA skillsKnowledge of Vagrant, Maven, PuppetLDAPSambaKey responsibilities:Maintaining and supporting live sites/machinesMaintaining and supporting development sites/machinesDeployments of code to multiple environments.Pro-active maintenanceTrouble-shooting and diagnosing issuesBuilding new environments.Taking the lead â€“ proposing solutions, not expecting them to be given to you!Writing (where applicable) P1/2 reports.Â Challenges of the roleCoping with multiple, sometimes overlapping work streams â€“ including P1 outagesBleeding edge technology changes Communicating with major stakeholders (TD, MD, CFO, Ops Dir etc..)Proposing technical OS/DB solutions for platforms and sites as required.Making sure the live sites *never* go down!!!Â \"\"\"\n",
        "\n",
        "\n",
        "model = Doc2Vec.load('drive/MyDrive/Colab Notebooks/models/doc2vec_model')\n",
        "v1 = model.infer_vector(resume.split())\n",
        "v2 = model.infer_vector(job_desc.split())\n",
        "similarity = 100*(np.dot(np.array(v1), np.array(v2))) / (norm(np.array(v1)) * norm(np.array(v2)))\n",
        "print(f\"{round(similarity, 2)}%\")"
      ],
      "metadata": {
        "colab": {
          "base_uri": "https://localhost:8080/"
        },
        "id": "fo3f0DwFyjs3",
        "outputId": "947698b9-a081-48fe-8937-23e218851b0b"
      },
      "execution_count": 57,
      "outputs": [
        {
          "output_type": "stream",
          "name": "stdout",
          "text": [
            "         CONSULTANT         Experience      Consultant  ,     05/2017   to   Current     Company Name   –   City  ,   State      Managed project schedule and local and remote staff to collect Water Main data and update GIS system.  Develop business process and productivity reports to manage field book scanning project and Water Main data collection project.  Provide Application support for CIS, Infor CMMS, and Neptune AMR applications.  Maintained SharePoint site for I/T department.  Assist Desktop support team with desktop and application user issues.  Developed secure FTP scripts during implementation of CIS and AMR applications after Ransomware attack.         Utility Solutions Consultant  ,     02/2006   to   04/2017     Company Name   –   City  ,   State      Install and configured Cityworks CMMS application, including XML modifications.  Led configuration requirements gathering effort for Cityworks application implementation.  Prepared and provided training for CIS, Meter Reading software, and CMMS applications.  Provided Application support for CIS, CMMS, and AMR applications.  Developed data import file layouts and Crystal Reports for Lucity CMMS application.  Performed system configuration for Lucity CMMS application.  Installed and configured Infor Enterprise Asset Management 11.1 application and SQL Server database.  Led System Administration team to design and configure user security for Infor Public Sector application.  Led configuration requirements gathering effort for Infor Public Sector application upgrade.  Provide Application support for CIS, CMMS, and AMR applications.  Assisted the City of Cleveland with the installation of their AMI Fixed Network.  Developed the Residential AMI Meter Deployment schedule for City of Cleveland AMI Project.  Led team to manage data interfaces between City of Atlanta and Contractor systems during the AMR replacement program.  Develop business process and reports to manage Automated Meter Reading meter replacement program for City of Atlanta, Bureau of Drinking Water.         CEO/Consultant  ,     02/2000   to   02/2006     Company Name   –   City  ,   State      Managed Griffin Technology Group budget, taxes, expenses and contracts Hired and managed employees, including scheduling client appointments for on-site PC support service.  Developed Crystal Reports for client management team to manage business within the Customer Information System.  Installed and configured Crystal Info Server 7.  Developed PL/SQL views to handle difficult data issues in reporting.  Gathered requirements for management reports, application changes, and tracking software.  Developed new applications using Access and Visual basic for Application for clients to track new projects.  Provided Application Support for Maximo, Maintenance Management Software and CSTAR, Customer Information System.  Assisted System Administrators in infrastructure upgrades and daily administration of HP-UX Servers.         Information Technology Consultant  ,     10/1999   to   12/1999     Company Name   –   City  ,   State      Developed new PL/SQL Stored Procedures and Functions to build financial summary data.  Developed SQL queries against Oracle 8 database.         Information Technology Consultant  ,     08/1999   to   10/1999     Company Name   –   City  ,   State      Created a new system functionality using Pro C code.  Modified existing program to fix errors with other processes.  Worked with DBA to build Oracle triggers and procedures and test programs.         Information Technology Consultant  ,     05/1998   to   07/1999     Company Name   –   City  ,   State      Maintained and Enhanced C and Uniface program code and Unix Shell scripts.  Developed new application development environment for future MMI software development.  Developed new process to replace outdated or broken processes.         Information Technology Specialist  ,     04/1996   to   04/1998     Company Name   –   City  ,   State      Provided development services to client at client's site.  Developed management reports using GQL\\User and Sybase SQL Server database in OS/2 environment.  Developed reports database using Lotus Approach 96 in Windows 95 environment.  Modified and maintained Uniface 6.1 Code in the Windows NT environment, during migration from Uniface 5.2 in OS/2 environment.         Senior Programmer  ,     03/1994   to   04/1996     Company Name   –   City  ,   State      Develop and maintain application using Uniface 5.2, Oracle 7.3, and image software PowerImage.  Maintained an Oracle database, including creating new tables and triggers and Application Support.  Led sessions with users to collect requirements, develop new features and improve current features of application.         Education      Bachelor of Science  :   Computer Science  ,   December 1993     GEORGIA INTITUTE OF TECHNOLOGY   -   City  ,   State    Computer Science       Summary    Information Technology professional with 20+ years of experience working in various roles. Possesses written and verbal communication skills and excellent interpersonal and leadership skills.      Highlights        Proficient in Software Development Life Cycle, Project Management, Oracle and SQL Server databases.\n",
            "Proficient in Crystal Reports, Windows and UNIX environments, and Automated Meter Reading and Utility Billing systems, Shell Scripting and SharePoint.\n",
            "Programming Languages: C/C++, PL/SQL, Visual Basic, Uniface, PHP, HTML, XML.            Skills    application development, Lotus Approach, Asset Management, Billing systems, book, budget, Develop business, Business Process Analysis, C, C++, client management, contracts, Crystal, Crystal Reports, Client, clients, data collection, DBA, databases, database, XML, features, financial, FTP, GIS, HP-UX, HTML, PHP, image, ITIL v, Access, SharePoint, Windows, Windows 95, Windows NT, migration, Enterprise, Network, Oracle 7.3, Oracle, Oracle database, PL/SQL, Oracle and SQL, Oracle 8, OS/2, PC support, Pro C, processes, Programming, Project Management, Reading, reporting, requirements gathering, scanning, scheduling, Servers, scripts, Shell Scripting, Software Development, SQL, SQL Server, Sybase SQL Server, System Administration, system configuration, tables, taxes, Desktop support, Uniface 6.1, Uniface, Uniface 5.2, UNIX, Unix Shell scripts, upgrades, upgrade, Visual Basic   \n",
            "21.97%\n"
          ]
        }
      ]
    },
    {
      "cell_type": "code",
      "source": [],
      "metadata": {
        "id": "j6j4oPfl6y8X"
      },
      "execution_count": null,
      "outputs": []
    }
  ]
}